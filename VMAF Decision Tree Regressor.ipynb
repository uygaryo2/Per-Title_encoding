{
 "cells": [
  {
   "cell_type": "code",
   "execution_count": 2,
   "metadata": {},
   "outputs": [],
   "source": [
    "from sklearn import metrics\n",
    "from sklearn.metrics import mean_squared_error\n",
    "from sklearn.model_selection import GridSearchCV\n",
    "from sklearn.model_selection import cross_val_score\n",
    "from sklearn.model_selection import train_test_split \n",
    "from sklearn import metrics\n",
    "from sklearn.tree import DecisionTreeRegressor  \n",
    "import random\n",
    "\n",
    "import sklearn.linear_model\n",
    "import pandas as pd \n",
    "import numpy as np\n",
    "import sys\n",
    "import re\n",
    "\n",
    "%matplotlib inline"
   ]
  },
  {
   "cell_type": "code",
   "execution_count": 19,
   "metadata": {},
   "outputs": [],
   "source": [
    "# Load the train and test Dataset\n",
    "df_train_x = pd.read_csv(\"export_df_train.csv\", encoding = 'utf8')\n",
    "df_test_x = pd.read_csv(\"export_df_test.csv\", encoding = 'utf8')\n",
    "df_train_y = pd.read_csv(\"export_df_train_y.csv\", encoding = 'utf8')\n",
    "df_test_y = pd.read_csv(\"export_df_test_y.csv\", encoding = 'utf8')"
   ]
  },
  {
   "cell_type": "code",
   "execution_count": 22,
   "metadata": {},
   "outputs": [
    {
     "name": "stdout",
     "output_type": "stream",
     "text": [
      "Mean Absolute Error: 2.7930441346362653\n",
      "Mean Squared Error: 21.871815411384166\n",
      "Root Mean Squared Error: 4.676731274232481\n"
     ]
    }
   ],
   "source": [
    "# Best result with Hyperparameter optimisation\n",
    "regressor = DecisionTreeRegressor()  \n",
    "\n",
    "# Train the model using the training sets\n",
    "regressor.fit(df_train_x, df_train_y)\n",
    "\n",
    "# Make predictions using the testing set\n",
    "y_pred = regressor.predict(df_test_x)\n",
    "\n",
    "# The evaluation metrics\n",
    "from sklearn import metrics  \n",
    "print('Mean Absolute Error:', metrics.mean_absolute_error(df_test_y, y_pred))  \n",
    "print('Mean Squared Error:', metrics.mean_squared_error(df_test_y, y_pred))  \n",
    "print('Root Mean Squared Error:', np.sqrt(metrics.mean_squared_error(df_test_y, y_pred))) "
   ]
  },
  {
   "cell_type": "code",
   "execution_count": 24,
   "metadata": {},
   "outputs": [
    {
     "name": "stdout",
     "output_type": "stream",
     "text": [
      "Fitting 5 folds for each of 20 candidates, totalling 100 fits\n"
     ]
    },
    {
     "name": "stderr",
     "output_type": "stream",
     "text": [
      "[Parallel(n_jobs=1)]: Using backend SequentialBackend with 1 concurrent workers.\n",
      "[Parallel(n_jobs=1)]: Done 100 out of 100 | elapsed:    3.3s finished\n"
     ]
    },
    {
     "data": {
      "text/plain": [
       "({'max_depth': 15, 'min_samples_split': 6}, -31.13880220145064)"
      ]
     },
     "execution_count": 24,
     "metadata": {},
     "output_type": "execute_result"
    }
   ],
   "source": [
    "# Using Randomized Search instead of a grid search\n",
    "\n",
    "from sklearn.model_selection import GridSearchCV, RandomizedSearchCV\n",
    "from scipy.stats import randint as sp_randint\n",
    "regressor3 = DecisionTreeRegressor()\n",
    "param_dist = {'max_depth': sp_randint(2,16),\n",
    "              'min_samples_split': sp_randint(2,16)}\n",
    "\n",
    "n_iter_search = 20\n",
    "clfrs = RandomizedSearchCV(regressor3, \n",
    "                                   param_distributions=param_dist,\n",
    "                                   scoring='neg_mean_squared_error',\n",
    "                                   cv=5 , n_jobs=1, verbose=1,\n",
    "                                   n_iter=n_iter_search)\n",
    "clfrs.fit(df_train_x, df_train_y)\n",
    "clfrs.best_params_, clfrs.best_score_"
   ]
  },
  {
   "cell_type": "code",
   "execution_count": 25,
   "metadata": {},
   "outputs": [
    {
     "name": "stdout",
     "output_type": "stream",
     "text": [
      "Mean Absolute Error: 2.9467482047618287\n",
      "Mean Squared Error: 20.483198720581033\n",
      "Root Mean Squared Error: 4.525836797828776\n"
     ]
    }
   ],
   "source": [
    "# Best result with Hyperparameter optimisation\n",
    "regressor = DecisionTreeRegressor(max_depth = 15, min_samples_split = 6)  \n",
    "\n",
    "# Train the model using the training sets\n",
    "regressor.fit(df_train_x, df_train_y)\n",
    "\n",
    "# Make predictions using the testing set\n",
    "y_pred = regressor.predict(df_test_x)\n",
    "\n",
    "# The evaluation metrics\n",
    "from sklearn import metrics  \n",
    "print('Mean Absolute Error:', metrics.mean_absolute_error(df_test_y, y_pred))  \n",
    "print('Mean Squared Error:', metrics.mean_squared_error(df_test_y, y_pred))  \n",
    "print('Root Mean Squared Error:', np.sqrt(metrics.mean_squared_error(df_test_y, y_pred))) "
   ]
  },
  {
   "cell_type": "code",
   "execution_count": null,
   "metadata": {},
   "outputs": [],
   "source": []
  }
 ],
 "metadata": {
  "kernelspec": {
   "display_name": "Python 3",
   "language": "python",
   "name": "python3"
  },
  "language_info": {
   "codemirror_mode": {
    "name": "ipython",
    "version": 3
   },
   "file_extension": ".py",
   "mimetype": "text/x-python",
   "name": "python",
   "nbconvert_exporter": "python",
   "pygments_lexer": "ipython3",
   "version": "3.6.7"
  }
 },
 "nbformat": 4,
 "nbformat_minor": 2
}
