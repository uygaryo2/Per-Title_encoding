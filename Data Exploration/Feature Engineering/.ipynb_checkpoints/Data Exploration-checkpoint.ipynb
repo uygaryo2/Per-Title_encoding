{
 "cells": [
  {
   "cell_type": "code",
   "execution_count": 1,
   "metadata": {},
   "outputs": [],
   "source": [
    "#importing packages\n",
    "import pandas as pd\n",
    "from sklearn.model_selection import train_test_split\n",
    "import numpy as np\n",
    "from scipy import stats\n",
    "from mlxtend.preprocessing import minmax_scaling\n",
    "import seaborn as sns\n",
    "import matplotlib.pyplot as plt\n"
   ]
  },
  {
   "cell_type": "code",
   "execution_count": 2,
   "metadata": {},
   "outputs": [],
   "source": [
    "#import csv\n",
    "data=pd.read_csv('/Users/sezin/PycharmProjects/Per-Title_encoding/Data/clip_encode_merged_data.csv')"
   ]
  },
  {
   "cell_type": "code",
   "execution_count": 3,
   "metadata": {},
   "outputs": [
    {
     "data": {
      "text/html": [
       "<div>\n",
       "<style scoped>\n",
       "    .dataframe tbody tr th:only-of-type {\n",
       "        vertical-align: middle;\n",
       "    }\n",
       "\n",
       "    .dataframe tbody tr th {\n",
       "        vertical-align: top;\n",
       "    }\n",
       "\n",
       "    .dataframe thead th {\n",
       "        text-align: right;\n",
       "    }\n",
       "</style>\n",
       "<table border=\"1\" class=\"dataframe\">\n",
       "  <thead>\n",
       "    <tr style=\"text-align: right;\">\n",
       "      <th></th>\n",
       "      <th>encode_id</th>\n",
       "      <th>clip_id</th>\n",
       "      <th>encode_width</th>\n",
       "      <th>encode_height</th>\n",
       "      <th>clip_width</th>\n",
       "      <th>clip_height</th>\n",
       "      <th>clip_duration</th>\n",
       "      <th>clip_size</th>\n",
       "      <th>clip_bitrate_total</th>\n",
       "      <th>video_profile</th>\n",
       "      <th>clip_frame_rate</th>\n",
       "      <th>crf</th>\n",
       "      <th>encode_bitrate_video</th>\n",
       "      <th>psnr</th>\n",
       "      <th>vmaf</th>\n",
       "    </tr>\n",
       "  </thead>\n",
       "  <tbody>\n",
       "    <tr>\n",
       "      <th>0</th>\n",
       "      <td>7</td>\n",
       "      <td>5</td>\n",
       "      <td>1920</td>\n",
       "      <td>1080</td>\n",
       "      <td>1920</td>\n",
       "      <td>1080</td>\n",
       "      <td>19</td>\n",
       "      <td>41249088</td>\n",
       "      <td>17350686</td>\n",
       "      <td>High 4:2:2</td>\n",
       "      <td>30000/1001</td>\n",
       "      <td>18</td>\n",
       "      <td>18667784</td>\n",
       "      <td>44.621550</td>\n",
       "      <td>99.406406</td>\n",
       "    </tr>\n",
       "    <tr>\n",
       "      <th>1</th>\n",
       "      <td>8</td>\n",
       "      <td>5</td>\n",
       "      <td>1920</td>\n",
       "      <td>1080</td>\n",
       "      <td>1920</td>\n",
       "      <td>1080</td>\n",
       "      <td>19</td>\n",
       "      <td>41249088</td>\n",
       "      <td>17350686</td>\n",
       "      <td>High 4:2:2</td>\n",
       "      <td>30000/1001</td>\n",
       "      <td>19</td>\n",
       "      <td>16379868</td>\n",
       "      <td>44.051502</td>\n",
       "      <td>99.192502</td>\n",
       "    </tr>\n",
       "    <tr>\n",
       "      <th>2</th>\n",
       "      <td>9</td>\n",
       "      <td>5</td>\n",
       "      <td>1920</td>\n",
       "      <td>1080</td>\n",
       "      <td>1920</td>\n",
       "      <td>1080</td>\n",
       "      <td>19</td>\n",
       "      <td>41249088</td>\n",
       "      <td>17350686</td>\n",
       "      <td>High 4:2:2</td>\n",
       "      <td>30000/1001</td>\n",
       "      <td>20</td>\n",
       "      <td>14293883</td>\n",
       "      <td>43.408926</td>\n",
       "      <td>98.924590</td>\n",
       "    </tr>\n",
       "    <tr>\n",
       "      <th>3</th>\n",
       "      <td>10</td>\n",
       "      <td>5</td>\n",
       "      <td>1920</td>\n",
       "      <td>1080</td>\n",
       "      <td>1920</td>\n",
       "      <td>1080</td>\n",
       "      <td>19</td>\n",
       "      <td>41249088</td>\n",
       "      <td>17350686</td>\n",
       "      <td>High 4:2:2</td>\n",
       "      <td>30000/1001</td>\n",
       "      <td>27</td>\n",
       "      <td>3985062</td>\n",
       "      <td>38.802828</td>\n",
       "      <td>89.462670</td>\n",
       "    </tr>\n",
       "    <tr>\n",
       "      <th>4</th>\n",
       "      <td>11</td>\n",
       "      <td>5</td>\n",
       "      <td>1920</td>\n",
       "      <td>1080</td>\n",
       "      <td>1920</td>\n",
       "      <td>1080</td>\n",
       "      <td>19</td>\n",
       "      <td>41249088</td>\n",
       "      <td>17350686</td>\n",
       "      <td>High 4:2:2</td>\n",
       "      <td>30000/1001</td>\n",
       "      <td>29</td>\n",
       "      <td>2969404</td>\n",
       "      <td>37.790129</td>\n",
       "      <td>84.728349</td>\n",
       "    </tr>\n",
       "  </tbody>\n",
       "</table>\n",
       "</div>"
      ],
      "text/plain": [
       "   encode_id  clip_id  encode_width  encode_height  clip_width  clip_height  \\\n",
       "0          7        5          1920           1080        1920         1080   \n",
       "1          8        5          1920           1080        1920         1080   \n",
       "2          9        5          1920           1080        1920         1080   \n",
       "3         10        5          1920           1080        1920         1080   \n",
       "4         11        5          1920           1080        1920         1080   \n",
       "\n",
       "   clip_duration  clip_size  clip_bitrate_total video_profile clip_frame_rate  \\\n",
       "0             19   41249088            17350686    High 4:2:2      30000/1001   \n",
       "1             19   41249088            17350686    High 4:2:2      30000/1001   \n",
       "2             19   41249088            17350686    High 4:2:2      30000/1001   \n",
       "3             19   41249088            17350686    High 4:2:2      30000/1001   \n",
       "4             19   41249088            17350686    High 4:2:2      30000/1001   \n",
       "\n",
       "   crf  encode_bitrate_video       psnr       vmaf  \n",
       "0   18              18667784  44.621550  99.406406  \n",
       "1   19              16379868  44.051502  99.192502  \n",
       "2   20              14293883  43.408926  98.924590  \n",
       "3   27               3985062  38.802828  89.462670  \n",
       "4   29               2969404  37.790129  84.728349  "
      ]
     },
     "execution_count": 3,
     "metadata": {},
     "output_type": "execute_result"
    }
   ],
   "source": [
    "data.head()"
   ]
  },
  {
   "cell_type": "code",
   "execution_count": 4,
   "metadata": {},
   "outputs": [
    {
     "data": {
      "text/html": [
       "<div>\n",
       "<style scoped>\n",
       "    .dataframe tbody tr th:only-of-type {\n",
       "        vertical-align: middle;\n",
       "    }\n",
       "\n",
       "    .dataframe tbody tr th {\n",
       "        vertical-align: top;\n",
       "    }\n",
       "\n",
       "    .dataframe thead th {\n",
       "        text-align: right;\n",
       "    }\n",
       "</style>\n",
       "<table border=\"1\" class=\"dataframe\">\n",
       "  <thead>\n",
       "    <tr style=\"text-align: right;\">\n",
       "      <th></th>\n",
       "      <th>encode_id</th>\n",
       "      <th>clip_id</th>\n",
       "      <th>encode_width</th>\n",
       "      <th>encode_height</th>\n",
       "      <th>clip_width</th>\n",
       "      <th>clip_height</th>\n",
       "      <th>clip_duration</th>\n",
       "      <th>clip_size</th>\n",
       "      <th>clip_bitrate_total</th>\n",
       "      <th>crf</th>\n",
       "      <th>encode_bitrate_video</th>\n",
       "      <th>psnr</th>\n",
       "      <th>vmaf</th>\n",
       "    </tr>\n",
       "  </thead>\n",
       "  <tbody>\n",
       "    <tr>\n",
       "      <th>count</th>\n",
       "      <td>4151.000000</td>\n",
       "      <td>4151.000000</td>\n",
       "      <td>4151.000000</td>\n",
       "      <td>4151.000000</td>\n",
       "      <td>4151.0</td>\n",
       "      <td>4151.000000</td>\n",
       "      <td>4151.000000</td>\n",
       "      <td>4.151000e+03</td>\n",
       "      <td>4.151000e+03</td>\n",
       "      <td>4151.000000</td>\n",
       "      <td>4.151000e+03</td>\n",
       "      <td>2435.000000</td>\n",
       "      <td>2606.000000</td>\n",
       "    </tr>\n",
       "    <tr>\n",
       "      <th>mean</th>\n",
       "      <td>3329.403035</td>\n",
       "      <td>32.957841</td>\n",
       "      <td>825.142857</td>\n",
       "      <td>524.571429</td>\n",
       "      <td>1920.0</td>\n",
       "      <td>967.244519</td>\n",
       "      <td>112.893761</td>\n",
       "      <td>1.540482e+08</td>\n",
       "      <td>2.275095e+07</td>\n",
       "      <td>32.733558</td>\n",
       "      <td>9.413673e+05</td>\n",
       "      <td>32.554520</td>\n",
       "      <td>47.881850</td>\n",
       "    </tr>\n",
       "    <tr>\n",
       "      <th>std</th>\n",
       "      <td>2216.132777</td>\n",
       "      <td>21.439417</td>\n",
       "      <td>534.423119</td>\n",
       "      <td>269.257172</td>\n",
       "      <td>0.0</td>\n",
       "      <td>127.595081</td>\n",
       "      <td>76.100023</td>\n",
       "      <td>7.462038e+07</td>\n",
       "      <td>3.563828e+07</td>\n",
       "      <td>10.395821</td>\n",
       "      <td>2.096332e+06</td>\n",
       "      <td>6.053601</td>\n",
       "      <td>28.802761</td>\n",
       "    </tr>\n",
       "    <tr>\n",
       "      <th>min</th>\n",
       "      <td>7.000000</td>\n",
       "      <td>5.000000</td>\n",
       "      <td>320.000000</td>\n",
       "      <td>240.000000</td>\n",
       "      <td>1920.0</td>\n",
       "      <td>816.000000</td>\n",
       "      <td>19.000000</td>\n",
       "      <td>2.377966e+07</td>\n",
       "      <td>1.753107e+06</td>\n",
       "      <td>18.000000</td>\n",
       "      <td>6.628000e+03</td>\n",
       "      <td>19.659002</td>\n",
       "      <td>0.065712</td>\n",
       "    </tr>\n",
       "    <tr>\n",
       "      <th>25%</th>\n",
       "      <td>1044.500000</td>\n",
       "      <td>12.000000</td>\n",
       "      <td>384.000000</td>\n",
       "      <td>288.000000</td>\n",
       "      <td>1920.0</td>\n",
       "      <td>816.000000</td>\n",
       "      <td>19.000000</td>\n",
       "      <td>1.015332e+08</td>\n",
       "      <td>9.569707e+06</td>\n",
       "      <td>23.000000</td>\n",
       "      <td>9.719850e+04</td>\n",
       "      <td>27.757793</td>\n",
       "      <td>22.493813</td>\n",
       "    </tr>\n",
       "    <tr>\n",
       "      <th>50%</th>\n",
       "      <td>3636.000000</td>\n",
       "      <td>34.000000</td>\n",
       "      <td>640.000000</td>\n",
       "      <td>480.000000</td>\n",
       "      <td>1920.0</td>\n",
       "      <td>1056.000000</td>\n",
       "      <td>131.000000</td>\n",
       "      <td>1.612013e+08</td>\n",
       "      <td>9.649357e+06</td>\n",
       "      <td>31.000000</td>\n",
       "      <td>2.908740e+05</td>\n",
       "      <td>32.449909</td>\n",
       "      <td>48.432191</td>\n",
       "    </tr>\n",
       "    <tr>\n",
       "      <th>75%</th>\n",
       "      <td>4785.500000</td>\n",
       "      <td>44.000000</td>\n",
       "      <td>1280.000000</td>\n",
       "      <td>720.000000</td>\n",
       "      <td>1920.0</td>\n",
       "      <td>1080.000000</td>\n",
       "      <td>149.000000</td>\n",
       "      <td>1.791551e+08</td>\n",
       "      <td>1.237013e+07</td>\n",
       "      <td>40.000000</td>\n",
       "      <td>8.473455e+05</td>\n",
       "      <td>36.780884</td>\n",
       "      <td>72.662840</td>\n",
       "    </tr>\n",
       "    <tr>\n",
       "      <th>max</th>\n",
       "      <td>8099.000000</td>\n",
       "      <td>88.000000</td>\n",
       "      <td>1920.000000</td>\n",
       "      <td>1080.000000</td>\n",
       "      <td>1920.0</td>\n",
       "      <td>1080.000000</td>\n",
       "      <td>463.000000</td>\n",
       "      <td>3.786084e+08</td>\n",
       "      <td>1.592548e+08</td>\n",
       "      <td>55.000000</td>\n",
       "      <td>3.196506e+07</td>\n",
       "      <td>49.104119</td>\n",
       "      <td>99.406406</td>\n",
       "    </tr>\n",
       "  </tbody>\n",
       "</table>\n",
       "</div>"
      ],
      "text/plain": [
       "         encode_id      clip_id  encode_width  encode_height  clip_width  \\\n",
       "count  4151.000000  4151.000000   4151.000000    4151.000000      4151.0   \n",
       "mean   3329.403035    32.957841    825.142857     524.571429      1920.0   \n",
       "std    2216.132777    21.439417    534.423119     269.257172         0.0   \n",
       "min       7.000000     5.000000    320.000000     240.000000      1920.0   \n",
       "25%    1044.500000    12.000000    384.000000     288.000000      1920.0   \n",
       "50%    3636.000000    34.000000    640.000000     480.000000      1920.0   \n",
       "75%    4785.500000    44.000000   1280.000000     720.000000      1920.0   \n",
       "max    8099.000000    88.000000   1920.000000    1080.000000      1920.0   \n",
       "\n",
       "       clip_height  clip_duration     clip_size  clip_bitrate_total  \\\n",
       "count  4151.000000    4151.000000  4.151000e+03        4.151000e+03   \n",
       "mean    967.244519     112.893761  1.540482e+08        2.275095e+07   \n",
       "std     127.595081      76.100023  7.462038e+07        3.563828e+07   \n",
       "min     816.000000      19.000000  2.377966e+07        1.753107e+06   \n",
       "25%     816.000000      19.000000  1.015332e+08        9.569707e+06   \n",
       "50%    1056.000000     131.000000  1.612013e+08        9.649357e+06   \n",
       "75%    1080.000000     149.000000  1.791551e+08        1.237013e+07   \n",
       "max    1080.000000     463.000000  3.786084e+08        1.592548e+08   \n",
       "\n",
       "               crf  encode_bitrate_video         psnr         vmaf  \n",
       "count  4151.000000          4.151000e+03  2435.000000  2606.000000  \n",
       "mean     32.733558          9.413673e+05    32.554520    47.881850  \n",
       "std      10.395821          2.096332e+06     6.053601    28.802761  \n",
       "min      18.000000          6.628000e+03    19.659002     0.065712  \n",
       "25%      23.000000          9.719850e+04    27.757793    22.493813  \n",
       "50%      31.000000          2.908740e+05    32.449909    48.432191  \n",
       "75%      40.000000          8.473455e+05    36.780884    72.662840  \n",
       "max      55.000000          3.196506e+07    49.104119    99.406406  "
      ]
     },
     "execution_count": 4,
     "metadata": {},
     "output_type": "execute_result"
    }
   ],
   "source": [
    "data.describe()"
   ]
  },
  {
   "cell_type": "code",
   "execution_count": 5,
   "metadata": {},
   "outputs": [
    {
     "data": {
      "text/plain": [
       "encode_id                  0\n",
       "clip_id                    0\n",
       "encode_width               0\n",
       "encode_height              0\n",
       "clip_width                 0\n",
       "clip_height                0\n",
       "clip_duration              0\n",
       "clip_size                  0\n",
       "clip_bitrate_total         0\n",
       "video_profile              0\n",
       "clip_frame_rate            0\n",
       "crf                        0\n",
       "encode_bitrate_video       0\n",
       "psnr                    1716\n",
       "vmaf                    1545\n",
       "dtype: int64"
      ]
     },
     "execution_count": 5,
     "metadata": {},
     "output_type": "execute_result"
    }
   ],
   "source": [
    "#check if there are null values\n",
    "data.isnull().sum()"
   ]
  },
  {
   "cell_type": "code",
   "execution_count": 6,
   "metadata": {},
   "outputs": [],
   "source": [
    "#drop rows\n",
    "#here I simply dropped the null values and ofcourse lost some info. Later I will try to ampute data with mean.\n",
    "data=data.dropna()"
   ]
  },
  {
   "cell_type": "code",
   "execution_count": 7,
   "metadata": {},
   "outputs": [
    {
     "data": {
      "text/html": [
       "<div>\n",
       "<style scoped>\n",
       "    .dataframe tbody tr th:only-of-type {\n",
       "        vertical-align: middle;\n",
       "    }\n",
       "\n",
       "    .dataframe tbody tr th {\n",
       "        vertical-align: top;\n",
       "    }\n",
       "\n",
       "    .dataframe thead th {\n",
       "        text-align: right;\n",
       "    }\n",
       "</style>\n",
       "<table border=\"1\" class=\"dataframe\">\n",
       "  <thead>\n",
       "    <tr style=\"text-align: right;\">\n",
       "      <th></th>\n",
       "      <th>encode_id</th>\n",
       "      <th>clip_id</th>\n",
       "      <th>encode_width</th>\n",
       "      <th>encode_height</th>\n",
       "      <th>clip_width</th>\n",
       "      <th>clip_height</th>\n",
       "      <th>clip_duration</th>\n",
       "      <th>clip_size</th>\n",
       "      <th>clip_bitrate_total</th>\n",
       "      <th>crf</th>\n",
       "      <th>encode_bitrate_video</th>\n",
       "      <th>psnr</th>\n",
       "      <th>vmaf</th>\n",
       "    </tr>\n",
       "  </thead>\n",
       "  <tbody>\n",
       "    <tr>\n",
       "      <th>count</th>\n",
       "      <td>2384.000000</td>\n",
       "      <td>2384.000000</td>\n",
       "      <td>2384.000000</td>\n",
       "      <td>2384.000000</td>\n",
       "      <td>2384.0</td>\n",
       "      <td>2384.000000</td>\n",
       "      <td>2384.000000</td>\n",
       "      <td>2.384000e+03</td>\n",
       "      <td>2.384000e+03</td>\n",
       "      <td>2384.000000</td>\n",
       "      <td>2.384000e+03</td>\n",
       "      <td>2384.000000</td>\n",
       "      <td>2384.000000</td>\n",
       "    </tr>\n",
       "    <tr>\n",
       "      <th>mean</th>\n",
       "      <td>1894.543624</td>\n",
       "      <td>19.524748</td>\n",
       "      <td>835.006711</td>\n",
       "      <td>529.912752</td>\n",
       "      <td>1920.0</td>\n",
       "      <td>965.456376</td>\n",
       "      <td>77.847315</td>\n",
       "      <td>1.519939e+08</td>\n",
       "      <td>3.330829e+07</td>\n",
       "      <td>32.492869</td>\n",
       "      <td>1.104493e+06</td>\n",
       "      <td>32.656632</td>\n",
       "      <td>47.524730</td>\n",
       "    </tr>\n",
       "    <tr>\n",
       "      <th>std</th>\n",
       "      <td>1405.902618</td>\n",
       "      <td>11.559849</td>\n",
       "      <td>535.952503</td>\n",
       "      <td>269.646340</td>\n",
       "      <td>0.0</td>\n",
       "      <td>128.782855</td>\n",
       "      <td>57.074284</td>\n",
       "      <td>9.087968e+07</td>\n",
       "      <td>4.410095e+07</td>\n",
       "      <td>10.401384</td>\n",
       "      <td>2.506750e+06</td>\n",
       "      <td>6.067974</td>\n",
       "      <td>28.979560</td>\n",
       "    </tr>\n",
       "    <tr>\n",
       "      <th>min</th>\n",
       "      <td>7.000000</td>\n",
       "      <td>5.000000</td>\n",
       "      <td>320.000000</td>\n",
       "      <td>240.000000</td>\n",
       "      <td>1920.0</td>\n",
       "      <td>816.000000</td>\n",
       "      <td>19.000000</td>\n",
       "      <td>2.377966e+07</td>\n",
       "      <td>9.017049e+06</td>\n",
       "      <td>18.000000</td>\n",
       "      <td>6.743000e+03</td>\n",
       "      <td>19.659002</td>\n",
       "      <td>0.065712</td>\n",
       "    </tr>\n",
       "    <tr>\n",
       "      <th>25%</th>\n",
       "      <td>653.750000</td>\n",
       "      <td>9.000000</td>\n",
       "      <td>384.000000</td>\n",
       "      <td>288.000000</td>\n",
       "      <td>1920.0</td>\n",
       "      <td>816.000000</td>\n",
       "      <td>19.000000</td>\n",
       "      <td>9.352000e+07</td>\n",
       "      <td>9.609672e+06</td>\n",
       "      <td>23.000000</td>\n",
       "      <td>1.081065e+05</td>\n",
       "      <td>27.836386</td>\n",
       "      <td>21.619999</td>\n",
       "    </tr>\n",
       "    <tr>\n",
       "      <th>50%</th>\n",
       "      <td>1382.500000</td>\n",
       "      <td>15.000000</td>\n",
       "      <td>640.000000</td>\n",
       "      <td>480.000000</td>\n",
       "      <td>1920.0</td>\n",
       "      <td>1056.000000</td>\n",
       "      <td>78.000000</td>\n",
       "      <td>1.457467e+08</td>\n",
       "      <td>1.000248e+07</td>\n",
       "      <td>31.000000</td>\n",
       "      <td>3.316335e+05</td>\n",
       "      <td>32.649125</td>\n",
       "      <td>47.651743</td>\n",
       "    </tr>\n",
       "    <tr>\n",
       "      <th>75%</th>\n",
       "      <td>3399.250000</td>\n",
       "      <td>32.000000</td>\n",
       "      <td>1280.000000</td>\n",
       "      <td>720.000000</td>\n",
       "      <td>1920.0</td>\n",
       "      <td>1080.000000</td>\n",
       "      <td>141.000000</td>\n",
       "      <td>1.795460e+08</td>\n",
       "      <td>2.106653e+07</td>\n",
       "      <td>40.000000</td>\n",
       "      <td>9.532675e+05</td>\n",
       "      <td>36.853550</td>\n",
       "      <td>72.692655</td>\n",
       "    </tr>\n",
       "    <tr>\n",
       "      <th>max</th>\n",
       "      <td>4107.000000</td>\n",
       "      <td>38.000000</td>\n",
       "      <td>1920.000000</td>\n",
       "      <td>1080.000000</td>\n",
       "      <td>1920.0</td>\n",
       "      <td>1080.000000</td>\n",
       "      <td>182.000000</td>\n",
       "      <td>3.786084e+08</td>\n",
       "      <td>1.592548e+08</td>\n",
       "      <td>55.000000</td>\n",
       "      <td>3.196506e+07</td>\n",
       "      <td>49.104119</td>\n",
       "      <td>99.406406</td>\n",
       "    </tr>\n",
       "  </tbody>\n",
       "</table>\n",
       "</div>"
      ],
      "text/plain": [
       "         encode_id      clip_id  encode_width  encode_height  clip_width  \\\n",
       "count  2384.000000  2384.000000   2384.000000    2384.000000      2384.0   \n",
       "mean   1894.543624    19.524748    835.006711     529.912752      1920.0   \n",
       "std    1405.902618    11.559849    535.952503     269.646340         0.0   \n",
       "min       7.000000     5.000000    320.000000     240.000000      1920.0   \n",
       "25%     653.750000     9.000000    384.000000     288.000000      1920.0   \n",
       "50%    1382.500000    15.000000    640.000000     480.000000      1920.0   \n",
       "75%    3399.250000    32.000000   1280.000000     720.000000      1920.0   \n",
       "max    4107.000000    38.000000   1920.000000    1080.000000      1920.0   \n",
       "\n",
       "       clip_height  clip_duration     clip_size  clip_bitrate_total  \\\n",
       "count  2384.000000    2384.000000  2.384000e+03        2.384000e+03   \n",
       "mean    965.456376      77.847315  1.519939e+08        3.330829e+07   \n",
       "std     128.782855      57.074284  9.087968e+07        4.410095e+07   \n",
       "min     816.000000      19.000000  2.377966e+07        9.017049e+06   \n",
       "25%     816.000000      19.000000  9.352000e+07        9.609672e+06   \n",
       "50%    1056.000000      78.000000  1.457467e+08        1.000248e+07   \n",
       "75%    1080.000000     141.000000  1.795460e+08        2.106653e+07   \n",
       "max    1080.000000     182.000000  3.786084e+08        1.592548e+08   \n",
       "\n",
       "               crf  encode_bitrate_video         psnr         vmaf  \n",
       "count  2384.000000          2.384000e+03  2384.000000  2384.000000  \n",
       "mean     32.492869          1.104493e+06    32.656632    47.524730  \n",
       "std      10.401384          2.506750e+06     6.067974    28.979560  \n",
       "min      18.000000          6.743000e+03    19.659002     0.065712  \n",
       "25%      23.000000          1.081065e+05    27.836386    21.619999  \n",
       "50%      31.000000          3.316335e+05    32.649125    47.651743  \n",
       "75%      40.000000          9.532675e+05    36.853550    72.692655  \n",
       "max      55.000000          3.196506e+07    49.104119    99.406406  "
      ]
     },
     "execution_count": 7,
     "metadata": {},
     "output_type": "execute_result"
    }
   ],
   "source": [
    "data.describe()"
   ]
  },
  {
   "cell_type": "code",
   "execution_count": 8,
   "metadata": {},
   "outputs": [
    {
     "data": {
      "text/plain": [
       "(2384, 15)"
      ]
     },
     "execution_count": 8,
     "metadata": {},
     "output_type": "execute_result"
    }
   ],
   "source": [
    "data.shape"
   ]
  },
  {
   "cell_type": "code",
   "execution_count": 9,
   "metadata": {},
   "outputs": [],
   "source": [
    "#data.to_csv('/Users/sezin/PycharmProjects/Per-Title_encoding/Data/clip_encode_merged_data_wo_null.csv')"
   ]
  },
  {
   "cell_type": "code",
   "execution_count": 11,
   "metadata": {},
   "outputs": [
    {
     "data": {
      "text/html": [
       "<div>\n",
       "<style scoped>\n",
       "    .dataframe tbody tr th:only-of-type {\n",
       "        vertical-align: middle;\n",
       "    }\n",
       "\n",
       "    .dataframe tbody tr th {\n",
       "        vertical-align: top;\n",
       "    }\n",
       "\n",
       "    .dataframe thead th {\n",
       "        text-align: right;\n",
       "    }\n",
       "</style>\n",
       "<table border=\"1\" class=\"dataframe\">\n",
       "  <thead>\n",
       "    <tr style=\"text-align: right;\">\n",
       "      <th></th>\n",
       "      <th>encode_width</th>\n",
       "      <th>encode_height</th>\n",
       "      <th>clip_width</th>\n",
       "      <th>clip_height</th>\n",
       "      <th>clip_duration</th>\n",
       "      <th>clip_size</th>\n",
       "      <th>clip_bitrate_total</th>\n",
       "      <th>crf</th>\n",
       "      <th>encode_bitrate_video</th>\n",
       "      <th>vmaf</th>\n",
       "    </tr>\n",
       "  </thead>\n",
       "  <tbody>\n",
       "    <tr>\n",
       "      <th>count</th>\n",
       "      <td>2384.000000</td>\n",
       "      <td>2384.000000</td>\n",
       "      <td>2384.0</td>\n",
       "      <td>2384.000000</td>\n",
       "      <td>2384.000000</td>\n",
       "      <td>2.384000e+03</td>\n",
       "      <td>2.384000e+03</td>\n",
       "      <td>2384.000000</td>\n",
       "      <td>2.384000e+03</td>\n",
       "      <td>2384.000000</td>\n",
       "    </tr>\n",
       "    <tr>\n",
       "      <th>mean</th>\n",
       "      <td>835.006711</td>\n",
       "      <td>529.912752</td>\n",
       "      <td>1920.0</td>\n",
       "      <td>965.456376</td>\n",
       "      <td>77.847315</td>\n",
       "      <td>1.519939e+08</td>\n",
       "      <td>3.330829e+07</td>\n",
       "      <td>32.492869</td>\n",
       "      <td>1.104493e+06</td>\n",
       "      <td>47.524730</td>\n",
       "    </tr>\n",
       "    <tr>\n",
       "      <th>std</th>\n",
       "      <td>535.952503</td>\n",
       "      <td>269.646340</td>\n",
       "      <td>0.0</td>\n",
       "      <td>128.782855</td>\n",
       "      <td>57.074284</td>\n",
       "      <td>9.087968e+07</td>\n",
       "      <td>4.410095e+07</td>\n",
       "      <td>10.401384</td>\n",
       "      <td>2.506750e+06</td>\n",
       "      <td>28.979560</td>\n",
       "    </tr>\n",
       "    <tr>\n",
       "      <th>min</th>\n",
       "      <td>320.000000</td>\n",
       "      <td>240.000000</td>\n",
       "      <td>1920.0</td>\n",
       "      <td>816.000000</td>\n",
       "      <td>19.000000</td>\n",
       "      <td>2.377966e+07</td>\n",
       "      <td>9.017049e+06</td>\n",
       "      <td>18.000000</td>\n",
       "      <td>6.743000e+03</td>\n",
       "      <td>0.065712</td>\n",
       "    </tr>\n",
       "    <tr>\n",
       "      <th>25%</th>\n",
       "      <td>384.000000</td>\n",
       "      <td>288.000000</td>\n",
       "      <td>1920.0</td>\n",
       "      <td>816.000000</td>\n",
       "      <td>19.000000</td>\n",
       "      <td>9.352000e+07</td>\n",
       "      <td>9.609672e+06</td>\n",
       "      <td>23.000000</td>\n",
       "      <td>1.081065e+05</td>\n",
       "      <td>21.619999</td>\n",
       "    </tr>\n",
       "    <tr>\n",
       "      <th>50%</th>\n",
       "      <td>640.000000</td>\n",
       "      <td>480.000000</td>\n",
       "      <td>1920.0</td>\n",
       "      <td>1056.000000</td>\n",
       "      <td>78.000000</td>\n",
       "      <td>1.457467e+08</td>\n",
       "      <td>1.000248e+07</td>\n",
       "      <td>31.000000</td>\n",
       "      <td>3.316335e+05</td>\n",
       "      <td>47.651743</td>\n",
       "    </tr>\n",
       "    <tr>\n",
       "      <th>75%</th>\n",
       "      <td>1280.000000</td>\n",
       "      <td>720.000000</td>\n",
       "      <td>1920.0</td>\n",
       "      <td>1080.000000</td>\n",
       "      <td>141.000000</td>\n",
       "      <td>1.795460e+08</td>\n",
       "      <td>2.106653e+07</td>\n",
       "      <td>40.000000</td>\n",
       "      <td>9.532675e+05</td>\n",
       "      <td>72.692655</td>\n",
       "    </tr>\n",
       "    <tr>\n",
       "      <th>max</th>\n",
       "      <td>1920.000000</td>\n",
       "      <td>1080.000000</td>\n",
       "      <td>1920.0</td>\n",
       "      <td>1080.000000</td>\n",
       "      <td>182.000000</td>\n",
       "      <td>3.786084e+08</td>\n",
       "      <td>1.592548e+08</td>\n",
       "      <td>55.000000</td>\n",
       "      <td>3.196506e+07</td>\n",
       "      <td>99.406406</td>\n",
       "    </tr>\n",
       "  </tbody>\n",
       "</table>\n",
       "</div>"
      ],
      "text/plain": [
       "       encode_width  encode_height  clip_width  clip_height  clip_duration  \\\n",
       "count   2384.000000    2384.000000      2384.0  2384.000000    2384.000000   \n",
       "mean     835.006711     529.912752      1920.0   965.456376      77.847315   \n",
       "std      535.952503     269.646340         0.0   128.782855      57.074284   \n",
       "min      320.000000     240.000000      1920.0   816.000000      19.000000   \n",
       "25%      384.000000     288.000000      1920.0   816.000000      19.000000   \n",
       "50%      640.000000     480.000000      1920.0  1056.000000      78.000000   \n",
       "75%     1280.000000     720.000000      1920.0  1080.000000     141.000000   \n",
       "max     1920.000000    1080.000000      1920.0  1080.000000     182.000000   \n",
       "\n",
       "          clip_size  clip_bitrate_total          crf  encode_bitrate_video  \\\n",
       "count  2.384000e+03        2.384000e+03  2384.000000          2.384000e+03   \n",
       "mean   1.519939e+08        3.330829e+07    32.492869          1.104493e+06   \n",
       "std    9.087968e+07        4.410095e+07    10.401384          2.506750e+06   \n",
       "min    2.377966e+07        9.017049e+06    18.000000          6.743000e+03   \n",
       "25%    9.352000e+07        9.609672e+06    23.000000          1.081065e+05   \n",
       "50%    1.457467e+08        1.000248e+07    31.000000          3.316335e+05   \n",
       "75%    1.795460e+08        2.106653e+07    40.000000          9.532675e+05   \n",
       "max    3.786084e+08        1.592548e+08    55.000000          3.196506e+07   \n",
       "\n",
       "              vmaf  \n",
       "count  2384.000000  \n",
       "mean     47.524730  \n",
       "std      28.979560  \n",
       "min       0.065712  \n",
       "25%      21.619999  \n",
       "50%      47.651743  \n",
       "75%      72.692655  \n",
       "max      99.406406  "
      ]
     },
     "execution_count": 11,
     "metadata": {},
     "output_type": "execute_result"
    }
   ],
   "source": [
    "#drop ids and psnr column\n",
    "new_data = data.drop(columns=['encode_id', 'clip_id', 'psnr','video_profile','clip_frame_rate'])\n",
    "new_data.describe()"
   ]
  },
  {
   "cell_type": "code",
   "execution_count": 12,
   "metadata": {},
   "outputs": [
    {
     "name": "stdout",
     "output_type": "stream",
     "text": [
      "(1907, 10) (477, 10)\n"
     ]
    }
   ],
   "source": [
    "#train test split\n",
    "e_train, e_test = train_test_split(new_data, test_size=0.2)\n",
    "print(e_train.shape,e_test.shape)"
   ]
  },
  {
   "cell_type": "code",
   "execution_count": 13,
   "metadata": {},
   "outputs": [
    {
     "data": {
      "image/png": "[encoded data removed]",
      "text/plain": [
       "<Figure size 432x288 with 1 Axes>"
      ]
     },
     "metadata": {
      "needs_background": "light"
     },
     "output_type": "display_data"
    },
    {
     "data": {
      "image/png": "[encoded data removed]",
      "text/plain": [
       "<Figure size 432x288 with 1 Axes>"
      ]
     },
     "metadata": {
      "needs_background": "light"
     },
     "output_type": "display_data"
    },
    {
     "data": {
      "image/png": "[encoded data removed]",
      "text/plain": [
       "<Figure size 432x288 with 1 Axes>"
      ]
     },
     "metadata": {
      "needs_background": "light"
     },
     "output_type": "display_data"
    },
    {
     "data": {
      "image/png": "[encoded data removed]",
      "text/plain": [
       "<Figure size 432x288 with 1 Axes>"
      ]
     },
     "metadata": {
      "needs_background": "light"
     },
     "output_type": "display_data"
    },
    {
     "data": {
      "image/png": "[encoded data removed]",
      "text/plain": [
       "<Figure size 432x288 with 1 Axes>"
      ]
     },
     "metadata": {
      "needs_background": "light"
     },
     "output_type": "display_data"
    },
    {
     "data": {
      "image/png": "[encoded data removed]",
      "text/plain": [
       "<Figure size 432x288 with 1 Axes>"
      ]
     },
     "metadata": {
      "needs_background": "light"
     },
     "output_type": "display_data"
    },
    {
     "data": {
      "image/png": "[encoded data removed]",
      "text/plain": [
       "<Figure size 432x288 with 1 Axes>"
      ]
     },
     "metadata": {
      "needs_background": "light"
     },
     "output_type": "display_data"
    },
    {
     "data": {
      "image/png": "[encoded data removed]",
      "text/plain": [
       "<Figure size 432x288 with 1 Axes>"
      ]
     },
     "metadata": {
      "needs_background": "light"
     },
     "output_type": "display_data"
    },
    {
     "data": {
      "image/png": "[encoded data removed]",
      "text/plain": [
       "<Figure size 432x288 with 1 Axes>"
      ]
     },
     "metadata": {
      "needs_background": "light"
     },
     "output_type": "display_data"
    },
    {
     "data": {
      "image/png": "[encoded data removed]",
      "text/plain": [
       "<Figure size 432x288 with 1 Axes>"
      ]
     },
     "metadata": {
      "needs_background": "light"
     },
     "output_type": "display_data"
    }
   ],
   "source": [
    "import matplotlib.pyplot as plt\n",
    "import seaborn as sns\n",
    "%matplotlib inline\n",
    "\n",
    "for column in list(e_train):\n",
    "    #plt.hist(e_train[column])\n",
    "    sns.distplot(e_train[column])\n",
    "    plt.show()"
   ]
  },
  {
   "cell_type": "code",
   "execution_count": 14,
   "metadata": {},
   "outputs": [
    {
     "name": "stdout",
     "output_type": "stream",
     "text": [
      "       encode_width  encode_height  clip_width  clip_height  clip_duration  \\\n",
      "count    477.000000     477.000000       477.0   477.000000     477.000000   \n",
      "mean     815.631027     520.654088      1920.0   952.251572      80.308176   \n",
      "std      524.558556     263.567206         0.0   130.131687      55.671563   \n",
      "min      320.000000     240.000000      1920.0   816.000000      19.000000   \n",
      "25%      384.000000     288.000000      1920.0   816.000000      19.000000   \n",
      "50%      640.000000     480.000000      1920.0  1056.000000      81.000000   \n",
      "75%     1280.000000     720.000000      1920.0  1080.000000     141.000000   \n",
      "max     1920.000000    1080.000000      1920.0  1080.000000     182.000000   \n",
      "\n",
      "          clip_size  clip_bitrate_total         crf  encode_bitrate_video  \\\n",
      "count  4.770000e+02        4.770000e+02  477.000000          4.770000e+02   \n",
      "mean   1.485976e+08        3.084624e+07   31.867925          1.087212e+06   \n",
      "std    8.475661e+07        4.151974e+07   10.375784          2.377329e+06   \n",
      "min    2.377966e+07        9.017049e+06   18.000000          7.863000e+03   \n",
      "25%    9.352000e+07        9.609672e+06   23.000000          1.069040e+05   \n",
      "50%    1.457467e+08        9.934026e+06   31.000000          3.392670e+05   \n",
      "75%    1.795460e+08        2.106653e+07   40.000000          9.846930e+05   \n",
      "max    3.786084e+08        1.592548e+08   55.000000          2.629774e+07   \n",
      "\n",
      "             vmaf  \n",
      "count  477.000000  \n",
      "mean    49.204379  \n",
      "std     29.328472  \n",
      "min      0.065712  \n",
      "25%     23.806332  \n",
      "50%     50.836377  \n",
      "75%     75.149603  \n",
      "max     99.206254  \n"
     ]
    }
   ],
   "source": [
    "print(e_test.describe())"
   ]
  },
  {
   "cell_type": "code",
   "execution_count": 15,
   "metadata": {},
   "outputs": [
    {
     "name": "stdout",
     "output_type": "stream",
     "text": [
      "       encode_width  encode_height  clip_width  clip_height  clip_duration  \\\n",
      "count   1907.000000    1907.000000      1907.0  1907.000000    1907.000000   \n",
      "mean     839.853173     532.228631      1920.0   968.759308      77.231778   \n",
      "std      538.791259     271.164149         0.0   128.265179      57.417634   \n",
      "min      320.000000     240.000000      1920.0   816.000000      19.000000   \n",
      "25%      384.000000     288.000000      1920.0   816.000000      19.000000   \n",
      "50%      640.000000     480.000000      1920.0  1056.000000      78.000000   \n",
      "75%     1280.000000     720.000000      1920.0  1080.000000     141.000000   \n",
      "max     1920.000000    1080.000000      1920.0  1080.000000     182.000000   \n",
      "\n",
      "          clip_size  clip_bitrate_total          crf  encode_bitrate_video  \\\n",
      "count  1.907000e+03        1.907000e+03  1907.000000          1.907000e+03   \n",
      "mean   1.528434e+08        3.392413e+07    32.649187          1.108816e+06   \n",
      "std    9.234943e+07        4.471254e+07    10.404624          2.538673e+06   \n",
      "min    2.377966e+07        9.017049e+06    18.000000          6.743000e+03   \n",
      "25%    9.352000e+07        9.609672e+06    23.000000          1.082460e+05   \n",
      "50%    1.457467e+08        1.000248e+07    31.000000          3.295170e+05   \n",
      "75%    1.824689e+08        2.106653e+07    40.000000          9.498220e+05   \n",
      "max    3.786084e+08        1.592548e+08    55.000000          3.196506e+07   \n",
      "\n",
      "              vmaf  \n",
      "count  1907.000000  \n",
      "mean     47.104598  \n",
      "std      28.884115  \n",
      "min       0.068654  \n",
      "25%      21.231147  \n",
      "50%      47.022783  \n",
      "75%      72.148879  \n",
      "max      99.406406  \n"
     ]
    }
   ],
   "source": [
    "print(e_train.describe())"
   ]
  },
  {
   "cell_type": "markdown",
   "metadata": {},
   "source": [
    "### Test Model"
   ]
  },
  {
   "cell_type": "code",
   "execution_count": 17,
   "metadata": {},
   "outputs": [],
   "source": [
    "data_y_train = e_train['vmaf']\n",
    "data_X_train = e_train.drop(columns=['vmaf'])\n",
    "\n",
    "\n",
    "data_y_test = e_test['vmaf']\n",
    "data_X_test = e_test.drop(columns=['vmaf'])"
   ]
  },
  {
   "cell_type": "code",
   "execution_count": 18,
   "metadata": {},
   "outputs": [
    {
     "name": "stdout",
     "output_type": "stream",
     "text": [
      "[-3.39635893e-02  1.24957631e-01 -3.39949281e-11 -2.28921118e-02\n",
      "  5.20221895e-01 -3.97602048e-07  8.98872632e-07 -2.06865429e+00\n",
      "  1.85064926e-07]\n"
     ]
    }
   ],
   "source": [
    "from sklearn.linear_model import LinearRegression\n",
    "\n",
    "linear_regression_model = LinearRegression()\n",
    "linear_regression_model.fit(data_X_train, data_y_train)\n",
    "print(linear_regression_model.coef_)"
   ]
  },
  {
   "cell_type": "code",
   "execution_count": 23,
   "metadata": {},
   "outputs": [],
   "source": [
    "y_pred = linear_regression_model.predict(data_X_test)"
   ]
  },
  {
   "cell_type": "code",
   "execution_count": 30,
   "metadata": {},
   "outputs": [
    {
     "data": {
      "text/plain": [
       "7.457265902103644"
      ]
     },
     "execution_count": 30,
     "metadata": {},
     "output_type": "execute_result"
    }
   ],
   "source": [
    "from sklearn.metrics import mean_absolute_error\n",
    "mean_absolute_error(data_y_test, y_pred)"
   ]
  },
  {
   "cell_type": "code",
   "execution_count": 24,
   "metadata": {},
   "outputs": [
    {
     "data": {
      "image/png": "[encoded data removed]",
      "text/plain": [
       "<Figure size 432x288 with 1 Axes>"
      ]
     },
     "metadata": {
      "needs_background": "light"
     },
     "output_type": "display_data"
    }
   ],
   "source": [
    "import seaborn as sns\n",
    "import matplotlib.pyplot as plt\n",
    "\n",
    "sns.distplot(abs(y_pred))\n",
    "plt.show()"
   ]
  },
  {
   "cell_type": "code",
   "execution_count": null,
   "metadata": {},
   "outputs": [],
   "source": []
  }
 ],
 "metadata": {
  "kernelspec": {
   "display_name": "Per-Title_encoding",
   "language": "python",
   "name": "per-title_encoding"
  },
  "language_info": {
   "codemirror_mode": {
    "name": "ipython",
    "version": 3
   },
   "file_extension": ".py",
   "mimetype": "text/x-python",
   "name": "python",
   "nbconvert_exporter": "python",
   "pygments_lexer": "ipython3",
   "version": "3.7.2"
  }
 },
 "nbformat": 4,
 "nbformat_minor": 2
}
