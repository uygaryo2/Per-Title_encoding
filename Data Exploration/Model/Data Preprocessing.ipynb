{
 "cells": [
  {
   "cell_type": "markdown",
   "metadata": {},
   "source": [
    "Import all required packages"
   ]
  },
  {
   "cell_type": "code",
   "execution_count": 2,
   "metadata": {},
   "outputs": [],
   "source": [
    "import pandas as pd\n",
    "import numpy as np\n",
    "from sklearn.preprocessing import MinMaxScaler\n",
    "from joblib import dump, load"
   ]
  },
  {
   "cell_type": "markdown",
   "metadata": {},
   "source": [
    "Read not processed data"
   ]
  },
  {
   "cell_type": "code",
   "execution_count": 3,
   "metadata": {},
   "outputs": [],
   "source": [
    "train_data = pd.read_csv('/Users/sezin/PycharmProjects/Per-Title_encoding/Data-PreProcessing/export_df_train.csv')\n",
    "test_data = pd.read_csv('/Users/sezin/PycharmProjects/Per-Title_encoding/Data-PreProcessing/export_df_test.csv')"
   ]
  },
  {
   "cell_type": "markdown",
   "metadata": {},
   "source": [
    "MinMaxScaling of Data"
   ]
  },
  {
   "cell_type": "code",
   "execution_count": 11,
   "metadata": {},
   "outputs": [],
   "source": [
    "numerical_columns = train_data.select_dtypes(include=[np.number]).columns.tolist()\n",
    "\n",
    "for column in numerical_columns:\n",
    "    normalizer = MinMaxScaler()\n",
    "    normalizer.fit(train_data[column].values.reshape(-1,1))\n",
    "    dump(normalizer, f\"scaler/{column.replace('/', '_')}_normalizer.pkl\")\n",
    "    train_data[column] = normalizer.transform(train_data[column].values.reshape(-1,1))\n",
    "    test_data[column] = normalizer.transform(test_data[column].values.reshape(-1,1))"
   ]
  },
  {
   "cell_type": "code",
   "execution_count": 13,
   "metadata": {},
   "outputs": [
    {
     "data": {
      "text/plain": [
       "['data/test.df']"
      ]
     },
     "execution_count": 13,
     "metadata": {},
     "output_type": "execute_result"
    }
   ],
   "source": [
    "dump(train_data, 'data/train.df')\n",
    "dump(test_data, 'data/test.df')"
   ]
  },
  {
   "cell_type": "code",
   "execution_count": null,
   "metadata": {},
   "outputs": [],
   "source": []
  }
 ],
 "metadata": {
  "kernelspec": {
   "display_name": "Per-Title_encoding",
   "language": "python",
   "name": "per-title_encoding"
  },
  "language_info": {
   "codemirror_mode": {
    "name": "ipython",
    "version": 3
   },
   "file_extension": ".py",
   "mimetype": "text/x-python",
   "name": "python",
   "nbconvert_exporter": "python",
   "pygments_lexer": "ipython3",
   "version": "3.7.2"
  }
 },
 "nbformat": 4,
 "nbformat_minor": 2
}
