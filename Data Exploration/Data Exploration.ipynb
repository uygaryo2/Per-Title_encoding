{
 "cells": [
  {
   "cell_type": "code",
   "execution_count": 1,
   "metadata": {},
   "outputs": [],
   "source": [
    "#importing packages\n",
    "import pandas as pd\n",
    "from sklearn.model_selection import train_test_split\n",
    "import numpy as np\n",
    "from scipy import stats\n",
    "from mlxtend.preprocessing import minmax_scaling\n",
    "import seaborn as sns\n",
    "import matplotlib.pyplot as plt\n"
   ]
  },
  {
   "cell_type": "code",
   "execution_count": 2,
   "metadata": {},
   "outputs": [],
   "source": [
    "#import csv\n",
    "data=pd.read_csv('/Users/sezin/PycharmProjects/Per-Title_encoding/Data/clip_encode_merged_data.csv')"
   ]
  },
  {
   "cell_type": "code",
   "execution_count": 3,
   "metadata": {},
   "outputs": [
    {
     "data": {
      "text/html": [
       "<div>\n",
       "<style scoped>\n",
       "    .dataframe tbody tr th:only-of-type {\n",
       "        vertical-align: middle;\n",
       "    }\n",
       "\n",
       "    .dataframe tbody tr th {\n",
       "        vertical-align: top;\n",
       "    }\n",
       "\n",
       "    .dataframe thead th {\n",
       "        text-align: right;\n",
       "    }\n",
       "</style>\n",
       "<table border=\"1\" class=\"dataframe\">\n",
       "  <thead>\n",
       "    <tr style=\"text-align: right;\">\n",
       "      <th></th>\n",
       "      <th>encode_id</th>\n",
       "      <th>clip_id</th>\n",
       "      <th>encode_width</th>\n",
       "      <th>encode_height</th>\n",
       "      <th>clip_width</th>\n",
       "      <th>clip_height</th>\n",
       "      <th>clip_duration</th>\n",
       "      <th>clip_size</th>\n",
       "      <th>clip_bitrate_total</th>\n",
       "      <th>video_profile</th>\n",
       "      <th>clip_frame_rate</th>\n",
       "      <th>crf</th>\n",
       "      <th>encode_bitrate_video</th>\n",
       "      <th>nr_of_images</th>\n",
       "      <th>nr_of_image_shifts</th>\n",
       "      <th>psnr</th>\n",
       "      <th>vmaf</th>\n",
       "    </tr>\n",
       "  </thead>\n",
       "  <tbody>\n",
       "    <tr>\n",
       "      <th>0</th>\n",
       "      <td>7</td>\n",
       "      <td>5</td>\n",
       "      <td>1920</td>\n",
       "      <td>1080</td>\n",
       "      <td>1920</td>\n",
       "      <td>1080</td>\n",
       "      <td>19</td>\n",
       "      <td>41249088</td>\n",
       "      <td>17350686</td>\n",
       "      <td>High 4:2:2</td>\n",
       "      <td>30000/1001</td>\n",
       "      <td>18</td>\n",
       "      <td>18667784.0</td>\n",
       "      <td>3</td>\n",
       "      <td>8</td>\n",
       "      <td>44.621550</td>\n",
       "      <td>99.406406</td>\n",
       "    </tr>\n",
       "    <tr>\n",
       "      <th>1</th>\n",
       "      <td>8</td>\n",
       "      <td>5</td>\n",
       "      <td>1920</td>\n",
       "      <td>1080</td>\n",
       "      <td>1920</td>\n",
       "      <td>1080</td>\n",
       "      <td>19</td>\n",
       "      <td>41249088</td>\n",
       "      <td>17350686</td>\n",
       "      <td>High 4:2:2</td>\n",
       "      <td>30000/1001</td>\n",
       "      <td>19</td>\n",
       "      <td>16379868.0</td>\n",
       "      <td>3</td>\n",
       "      <td>8</td>\n",
       "      <td>44.051502</td>\n",
       "      <td>99.192502</td>\n",
       "    </tr>\n",
       "    <tr>\n",
       "      <th>2</th>\n",
       "      <td>9</td>\n",
       "      <td>5</td>\n",
       "      <td>1920</td>\n",
       "      <td>1080</td>\n",
       "      <td>1920</td>\n",
       "      <td>1080</td>\n",
       "      <td>19</td>\n",
       "      <td>41249088</td>\n",
       "      <td>17350686</td>\n",
       "      <td>High 4:2:2</td>\n",
       "      <td>30000/1001</td>\n",
       "      <td>20</td>\n",
       "      <td>14293883.0</td>\n",
       "      <td>3</td>\n",
       "      <td>8</td>\n",
       "      <td>43.408926</td>\n",
       "      <td>98.924590</td>\n",
       "    </tr>\n",
       "    <tr>\n",
       "      <th>3</th>\n",
       "      <td>10</td>\n",
       "      <td>5</td>\n",
       "      <td>1920</td>\n",
       "      <td>1080</td>\n",
       "      <td>1920</td>\n",
       "      <td>1080</td>\n",
       "      <td>19</td>\n",
       "      <td>41249088</td>\n",
       "      <td>17350686</td>\n",
       "      <td>High 4:2:2</td>\n",
       "      <td>30000/1001</td>\n",
       "      <td>27</td>\n",
       "      <td>3985062.0</td>\n",
       "      <td>3</td>\n",
       "      <td>8</td>\n",
       "      <td>38.802828</td>\n",
       "      <td>89.462670</td>\n",
       "    </tr>\n",
       "    <tr>\n",
       "      <th>4</th>\n",
       "      <td>11</td>\n",
       "      <td>5</td>\n",
       "      <td>1920</td>\n",
       "      <td>1080</td>\n",
       "      <td>1920</td>\n",
       "      <td>1080</td>\n",
       "      <td>19</td>\n",
       "      <td>41249088</td>\n",
       "      <td>17350686</td>\n",
       "      <td>High 4:2:2</td>\n",
       "      <td>30000/1001</td>\n",
       "      <td>29</td>\n",
       "      <td>2969404.0</td>\n",
       "      <td>3</td>\n",
       "      <td>8</td>\n",
       "      <td>37.790129</td>\n",
       "      <td>84.728349</td>\n",
       "    </tr>\n",
       "  </tbody>\n",
       "</table>\n",
       "</div>"
      ],
      "text/plain": [
       "   encode_id  clip_id  encode_width  encode_height  clip_width  clip_height  \\\n",
       "0          7        5          1920           1080        1920         1080   \n",
       "1          8        5          1920           1080        1920         1080   \n",
       "2          9        5          1920           1080        1920         1080   \n",
       "3         10        5          1920           1080        1920         1080   \n",
       "4         11        5          1920           1080        1920         1080   \n",
       "\n",
       "   clip_duration  clip_size  clip_bitrate_total video_profile clip_frame_rate  \\\n",
       "0             19   41249088            17350686    High 4:2:2      30000/1001   \n",
       "1             19   41249088            17350686    High 4:2:2      30000/1001   \n",
       "2             19   41249088            17350686    High 4:2:2      30000/1001   \n",
       "3             19   41249088            17350686    High 4:2:2      30000/1001   \n",
       "4             19   41249088            17350686    High 4:2:2      30000/1001   \n",
       "\n",
       "   crf  encode_bitrate_video  nr_of_images  nr_of_image_shifts       psnr  \\\n",
       "0   18            18667784.0             3                   8  44.621550   \n",
       "1   19            16379868.0             3                   8  44.051502   \n",
       "2   20            14293883.0             3                   8  43.408926   \n",
       "3   27             3985062.0             3                   8  38.802828   \n",
       "4   29             2969404.0             3                   8  37.790129   \n",
       "\n",
       "        vmaf  \n",
       "0  99.406406  \n",
       "1  99.192502  \n",
       "2  98.924590  \n",
       "3  89.462670  \n",
       "4  84.728349  "
      ]
     },
     "execution_count": 3,
     "metadata": {},
     "output_type": "execute_result"
    }
   ],
   "source": [
    "data.head()"
   ]
  },
  {
   "cell_type": "code",
   "execution_count": 4,
   "metadata": {},
   "outputs": [
    {
     "data": {
      "text/html": [
       "<div>\n",
       "<style scoped>\n",
       "    .dataframe tbody tr th:only-of-type {\n",
       "        vertical-align: middle;\n",
       "    }\n",
       "\n",
       "    .dataframe tbody tr th {\n",
       "        vertical-align: top;\n",
       "    }\n",
       "\n",
       "    .dataframe thead th {\n",
       "        text-align: right;\n",
       "    }\n",
       "</style>\n",
       "<table border=\"1\" class=\"dataframe\">\n",
       "  <thead>\n",
       "    <tr style=\"text-align: right;\">\n",
       "      <th></th>\n",
       "      <th>encode_id</th>\n",
       "      <th>clip_id</th>\n",
       "      <th>encode_width</th>\n",
       "      <th>encode_height</th>\n",
       "      <th>clip_width</th>\n",
       "      <th>clip_height</th>\n",
       "      <th>clip_duration</th>\n",
       "      <th>clip_size</th>\n",
       "      <th>clip_bitrate_total</th>\n",
       "      <th>crf</th>\n",
       "      <th>encode_bitrate_video</th>\n",
       "      <th>nr_of_images</th>\n",
       "      <th>nr_of_image_shifts</th>\n",
       "      <th>psnr</th>\n",
       "      <th>vmaf</th>\n",
       "    </tr>\n",
       "  </thead>\n",
       "  <tbody>\n",
       "    <tr>\n",
       "      <th>count</th>\n",
       "      <td>5479.000000</td>\n",
       "      <td>5479.000000</td>\n",
       "      <td>5479.000000</td>\n",
       "      <td>5479.000000</td>\n",
       "      <td>5479.0</td>\n",
       "      <td>5479.000000</td>\n",
       "      <td>5479.000000</td>\n",
       "      <td>5.479000e+03</td>\n",
       "      <td>5.479000e+03</td>\n",
       "      <td>5479.000000</td>\n",
       "      <td>5.410000e+03</td>\n",
       "      <td>5479.000000</td>\n",
       "      <td>5479.000000</td>\n",
       "      <td>2302.000000</td>\n",
       "      <td>4790.000000</td>\n",
       "    </tr>\n",
       "    <tr>\n",
       "      <th>mean</th>\n",
       "      <td>5191.563789</td>\n",
       "      <td>58.070451</td>\n",
       "      <td>829.614163</td>\n",
       "      <td>526.817302</td>\n",
       "      <td>1920.0</td>\n",
       "      <td>984.271582</td>\n",
       "      <td>132.718379</td>\n",
       "      <td>1.413721e+08</td>\n",
       "      <td>1.714677e+07</td>\n",
       "      <td>32.146195</td>\n",
       "      <td>9.384927e+05</td>\n",
       "      <td>3.981201</td>\n",
       "      <td>7.981383</td>\n",
       "      <td>32.776278</td>\n",
       "      <td>50.013707</td>\n",
       "    </tr>\n",
       "    <tr>\n",
       "      <th>std</th>\n",
       "      <td>3502.790633</td>\n",
       "      <td>44.550308</td>\n",
       "      <td>536.285361</td>\n",
       "      <td>270.136914</td>\n",
       "      <td>0.0</td>\n",
       "      <td>133.045663</td>\n",
       "      <td>73.418579</td>\n",
       "      <td>7.516743e+07</td>\n",
       "      <td>3.122918e+07</td>\n",
       "      <td>9.923897</td>\n",
       "      <td>1.940428e+06</td>\n",
       "      <td>2.591553</td>\n",
       "      <td>5.767905</td>\n",
       "      <td>6.053482</td>\n",
       "      <td>28.610170</td>\n",
       "    </tr>\n",
       "    <tr>\n",
       "      <th>min</th>\n",
       "      <td>7.000000</td>\n",
       "      <td>5.000000</td>\n",
       "      <td>320.000000</td>\n",
       "      <td>240.000000</td>\n",
       "      <td>1920.0</td>\n",
       "      <td>816.000000</td>\n",
       "      <td>19.000000</td>\n",
       "      <td>8.388608e+06</td>\n",
       "      <td>3.208250e+05</td>\n",
       "      <td>18.000000</td>\n",
       "      <td>6.628000e+03</td>\n",
       "      <td>1.000000</td>\n",
       "      <td>1.000000</td>\n",
       "      <td>19.659002</td>\n",
       "      <td>0.065712</td>\n",
       "    </tr>\n",
       "    <tr>\n",
       "      <th>25%</th>\n",
       "      <td>3063.500000</td>\n",
       "      <td>29.000000</td>\n",
       "      <td>384.000000</td>\n",
       "      <td>288.000000</td>\n",
       "      <td>1920.0</td>\n",
       "      <td>816.000000</td>\n",
       "      <td>105.000000</td>\n",
       "      <td>9.352000e+07</td>\n",
       "      <td>9.017049e+06</td>\n",
       "      <td>23.000000</td>\n",
       "      <td>1.103292e+05</td>\n",
       "      <td>2.000000</td>\n",
       "      <td>4.000000</td>\n",
       "      <td>27.981235</td>\n",
       "      <td>24.908225</td>\n",
       "    </tr>\n",
       "    <tr>\n",
       "      <th>50%</th>\n",
       "      <td>4545.000000</td>\n",
       "      <td>42.000000</td>\n",
       "      <td>640.000000</td>\n",
       "      <td>480.000000</td>\n",
       "      <td>1920.0</td>\n",
       "      <td>1080.000000</td>\n",
       "      <td>135.000000</td>\n",
       "      <td>1.457467e+08</td>\n",
       "      <td>9.609458e+06</td>\n",
       "      <td>30.000000</td>\n",
       "      <td>3.222625e+05</td>\n",
       "      <td>3.000000</td>\n",
       "      <td>7.000000</td>\n",
       "      <td>32.782581</td>\n",
       "      <td>51.108541</td>\n",
       "    </tr>\n",
       "    <tr>\n",
       "      <th>75%</th>\n",
       "      <td>9086.500000</td>\n",
       "      <td>106.000000</td>\n",
       "      <td>1280.000000</td>\n",
       "      <td>720.000000</td>\n",
       "      <td>1920.0</td>\n",
       "      <td>1080.000000</td>\n",
       "      <td>151.000000</td>\n",
       "      <td>1.791446e+08</td>\n",
       "      <td>9.934026e+06</td>\n",
       "      <td>40.000000</td>\n",
       "      <td>8.849682e+05</td>\n",
       "      <td>5.000000</td>\n",
       "      <td>11.000000</td>\n",
       "      <td>36.977984</td>\n",
       "      <td>74.964342</td>\n",
       "    </tr>\n",
       "    <tr>\n",
       "      <th>max</th>\n",
       "      <td>10918.000000</td>\n",
       "      <td>146.000000</td>\n",
       "      <td>1920.000000</td>\n",
       "      <td>1080.000000</td>\n",
       "      <td>1920.0</td>\n",
       "      <td>1440.000000</td>\n",
       "      <td>396.000000</td>\n",
       "      <td>3.786084e+08</td>\n",
       "      <td>1.592548e+08</td>\n",
       "      <td>55.000000</td>\n",
       "      <td>3.196506e+07</td>\n",
       "      <td>14.000000</td>\n",
       "      <td>32.000000</td>\n",
       "      <td>49.104119</td>\n",
       "      <td>99.479527</td>\n",
       "    </tr>\n",
       "  </tbody>\n",
       "</table>\n",
       "</div>"
      ],
      "text/plain": [
       "          encode_id      clip_id  encode_width  encode_height  clip_width  \\\n",
       "count   5479.000000  5479.000000   5479.000000    5479.000000      5479.0   \n",
       "mean    5191.563789    58.070451    829.614163     526.817302      1920.0   \n",
       "std     3502.790633    44.550308    536.285361     270.136914         0.0   \n",
       "min        7.000000     5.000000    320.000000     240.000000      1920.0   \n",
       "25%     3063.500000    29.000000    384.000000     288.000000      1920.0   \n",
       "50%     4545.000000    42.000000    640.000000     480.000000      1920.0   \n",
       "75%     9086.500000   106.000000   1280.000000     720.000000      1920.0   \n",
       "max    10918.000000   146.000000   1920.000000    1080.000000      1920.0   \n",
       "\n",
       "       clip_height  clip_duration     clip_size  clip_bitrate_total  \\\n",
       "count  5479.000000    5479.000000  5.479000e+03        5.479000e+03   \n",
       "mean    984.271582     132.718379  1.413721e+08        1.714677e+07   \n",
       "std     133.045663      73.418579  7.516743e+07        3.122918e+07   \n",
       "min     816.000000      19.000000  8.388608e+06        3.208250e+05   \n",
       "25%     816.000000     105.000000  9.352000e+07        9.017049e+06   \n",
       "50%    1080.000000     135.000000  1.457467e+08        9.609458e+06   \n",
       "75%    1080.000000     151.000000  1.791446e+08        9.934026e+06   \n",
       "max    1440.000000     396.000000  3.786084e+08        1.592548e+08   \n",
       "\n",
       "               crf  encode_bitrate_video  nr_of_images  nr_of_image_shifts  \\\n",
       "count  5479.000000          5.410000e+03   5479.000000         5479.000000   \n",
       "mean     32.146195          9.384927e+05      3.981201            7.981383   \n",
       "std       9.923897          1.940428e+06      2.591553            5.767905   \n",
       "min      18.000000          6.628000e+03      1.000000            1.000000   \n",
       "25%      23.000000          1.103292e+05      2.000000            4.000000   \n",
       "50%      30.000000          3.222625e+05      3.000000            7.000000   \n",
       "75%      40.000000          8.849682e+05      5.000000           11.000000   \n",
       "max      55.000000          3.196506e+07     14.000000           32.000000   \n",
       "\n",
       "              psnr         vmaf  \n",
       "count  2302.000000  4790.000000  \n",
       "mean     32.776278    50.013707  \n",
       "std       6.053482    28.610170  \n",
       "min      19.659002     0.065712  \n",
       "25%      27.981235    24.908225  \n",
       "50%      32.782581    51.108541  \n",
       "75%      36.977984    74.964342  \n",
       "max      49.104119    99.479527  "
      ]
     },
     "execution_count": 4,
     "metadata": {},
     "output_type": "execute_result"
    }
   ],
   "source": [
    "data.describe()"
   ]
  },
  {
   "cell_type": "code",
   "execution_count": 5,
   "metadata": {},
   "outputs": [
    {
     "data": {
      "text/plain": [
       "encode_id                  0\n",
       "clip_id                    0\n",
       "encode_width               0\n",
       "encode_height              0\n",
       "clip_width                 0\n",
       "clip_height                0\n",
       "clip_duration              0\n",
       "clip_size                  0\n",
       "clip_bitrate_total         0\n",
       "video_profile              0\n",
       "clip_frame_rate            0\n",
       "crf                        0\n",
       "encode_bitrate_video      69\n",
       "nr_of_images               0\n",
       "nr_of_image_shifts         0\n",
       "psnr                    3177\n",
       "vmaf                     689\n",
       "dtype: int64"
      ]
     },
     "execution_count": 5,
     "metadata": {},
     "output_type": "execute_result"
    }
   ],
   "source": [
    "#check if there are null values\n",
    "data.isnull().sum()"
   ]
  },
  {
   "cell_type": "code",
   "execution_count": 6,
   "metadata": {},
   "outputs": [],
   "source": [
    "#drop rows\n",
    "#here I simply dropped the null values and ofcourse lost some info. Later I will try to ampute data with mean.\n"
   ]
  },
  {
   "cell_type": "code",
   "execution_count": 7,
   "metadata": {},
   "outputs": [
    {
     "data": {
      "text/html": [
       "<div>\n",
       "<style scoped>\n",
       "    .dataframe tbody tr th:only-of-type {\n",
       "        vertical-align: middle;\n",
       "    }\n",
       "\n",
       "    .dataframe tbody tr th {\n",
       "        vertical-align: top;\n",
       "    }\n",
       "\n",
       "    .dataframe thead th {\n",
       "        text-align: right;\n",
       "    }\n",
       "</style>\n",
       "<table border=\"1\" class=\"dataframe\">\n",
       "  <thead>\n",
       "    <tr style=\"text-align: right;\">\n",
       "      <th></th>\n",
       "      <th>encode_id</th>\n",
       "      <th>clip_id</th>\n",
       "      <th>encode_width</th>\n",
       "      <th>encode_height</th>\n",
       "      <th>clip_width</th>\n",
       "      <th>clip_height</th>\n",
       "      <th>clip_duration</th>\n",
       "      <th>clip_size</th>\n",
       "      <th>clip_bitrate_total</th>\n",
       "      <th>crf</th>\n",
       "      <th>encode_bitrate_video</th>\n",
       "      <th>nr_of_images</th>\n",
       "      <th>nr_of_image_shifts</th>\n",
       "      <th>psnr</th>\n",
       "      <th>vmaf</th>\n",
       "    </tr>\n",
       "  </thead>\n",
       "  <tbody>\n",
       "    <tr>\n",
       "      <th>count</th>\n",
       "      <td>5479.000000</td>\n",
       "      <td>5479.000000</td>\n",
       "      <td>5479.000000</td>\n",
       "      <td>5479.000000</td>\n",
       "      <td>5479.0</td>\n",
       "      <td>5479.000000</td>\n",
       "      <td>5479.000000</td>\n",
       "      <td>5.479000e+03</td>\n",
       "      <td>5.479000e+03</td>\n",
       "      <td>5479.000000</td>\n",
       "      <td>5.410000e+03</td>\n",
       "      <td>5479.000000</td>\n",
       "      <td>5479.000000</td>\n",
       "      <td>2302.000000</td>\n",
       "      <td>4790.000000</td>\n",
       "    </tr>\n",
       "    <tr>\n",
       "      <th>mean</th>\n",
       "      <td>5191.563789</td>\n",
       "      <td>58.070451</td>\n",
       "      <td>829.614163</td>\n",
       "      <td>526.817302</td>\n",
       "      <td>1920.0</td>\n",
       "      <td>984.271582</td>\n",
       "      <td>132.718379</td>\n",
       "      <td>1.413721e+08</td>\n",
       "      <td>1.714677e+07</td>\n",
       "      <td>32.146195</td>\n",
       "      <td>9.384927e+05</td>\n",
       "      <td>3.981201</td>\n",
       "      <td>7.981383</td>\n",
       "      <td>32.776278</td>\n",
       "      <td>50.013707</td>\n",
       "    </tr>\n",
       "    <tr>\n",
       "      <th>std</th>\n",
       "      <td>3502.790633</td>\n",
       "      <td>44.550308</td>\n",
       "      <td>536.285361</td>\n",
       "      <td>270.136914</td>\n",
       "      <td>0.0</td>\n",
       "      <td>133.045663</td>\n",
       "      <td>73.418579</td>\n",
       "      <td>7.516743e+07</td>\n",
       "      <td>3.122918e+07</td>\n",
       "      <td>9.923897</td>\n",
       "      <td>1.940428e+06</td>\n",
       "      <td>2.591553</td>\n",
       "      <td>5.767905</td>\n",
       "      <td>6.053482</td>\n",
       "      <td>28.610170</td>\n",
       "    </tr>\n",
       "    <tr>\n",
       "      <th>min</th>\n",
       "      <td>7.000000</td>\n",
       "      <td>5.000000</td>\n",
       "      <td>320.000000</td>\n",
       "      <td>240.000000</td>\n",
       "      <td>1920.0</td>\n",
       "      <td>816.000000</td>\n",
       "      <td>19.000000</td>\n",
       "      <td>8.388608e+06</td>\n",
       "      <td>3.208250e+05</td>\n",
       "      <td>18.000000</td>\n",
       "      <td>6.628000e+03</td>\n",
       "      <td>1.000000</td>\n",
       "      <td>1.000000</td>\n",
       "      <td>19.659002</td>\n",
       "      <td>0.065712</td>\n",
       "    </tr>\n",
       "    <tr>\n",
       "      <th>25%</th>\n",
       "      <td>3063.500000</td>\n",
       "      <td>29.000000</td>\n",
       "      <td>384.000000</td>\n",
       "      <td>288.000000</td>\n",
       "      <td>1920.0</td>\n",
       "      <td>816.000000</td>\n",
       "      <td>105.000000</td>\n",
       "      <td>9.352000e+07</td>\n",
       "      <td>9.017049e+06</td>\n",
       "      <td>23.000000</td>\n",
       "      <td>1.103292e+05</td>\n",
       "      <td>2.000000</td>\n",
       "      <td>4.000000</td>\n",
       "      <td>27.981235</td>\n",
       "      <td>24.908225</td>\n",
       "    </tr>\n",
       "    <tr>\n",
       "      <th>50%</th>\n",
       "      <td>4545.000000</td>\n",
       "      <td>42.000000</td>\n",
       "      <td>640.000000</td>\n",
       "      <td>480.000000</td>\n",
       "      <td>1920.0</td>\n",
       "      <td>1080.000000</td>\n",
       "      <td>135.000000</td>\n",
       "      <td>1.457467e+08</td>\n",
       "      <td>9.609458e+06</td>\n",
       "      <td>30.000000</td>\n",
       "      <td>3.222625e+05</td>\n",
       "      <td>3.000000</td>\n",
       "      <td>7.000000</td>\n",
       "      <td>32.782581</td>\n",
       "      <td>51.108541</td>\n",
       "    </tr>\n",
       "    <tr>\n",
       "      <th>75%</th>\n",
       "      <td>9086.500000</td>\n",
       "      <td>106.000000</td>\n",
       "      <td>1280.000000</td>\n",
       "      <td>720.000000</td>\n",
       "      <td>1920.0</td>\n",
       "      <td>1080.000000</td>\n",
       "      <td>151.000000</td>\n",
       "      <td>1.791446e+08</td>\n",
       "      <td>9.934026e+06</td>\n",
       "      <td>40.000000</td>\n",
       "      <td>8.849682e+05</td>\n",
       "      <td>5.000000</td>\n",
       "      <td>11.000000</td>\n",
       "      <td>36.977984</td>\n",
       "      <td>74.964342</td>\n",
       "    </tr>\n",
       "    <tr>\n",
       "      <th>max</th>\n",
       "      <td>10918.000000</td>\n",
       "      <td>146.000000</td>\n",
       "      <td>1920.000000</td>\n",
       "      <td>1080.000000</td>\n",
       "      <td>1920.0</td>\n",
       "      <td>1440.000000</td>\n",
       "      <td>396.000000</td>\n",
       "      <td>3.786084e+08</td>\n",
       "      <td>1.592548e+08</td>\n",
       "      <td>55.000000</td>\n",
       "      <td>3.196506e+07</td>\n",
       "      <td>14.000000</td>\n",
       "      <td>32.000000</td>\n",
       "      <td>49.104119</td>\n",
       "      <td>99.479527</td>\n",
       "    </tr>\n",
       "  </tbody>\n",
       "</table>\n",
       "</div>"
      ],
      "text/plain": [
       "          encode_id      clip_id  encode_width  encode_height  clip_width  \\\n",
       "count   5479.000000  5479.000000   5479.000000    5479.000000      5479.0   \n",
       "mean    5191.563789    58.070451    829.614163     526.817302      1920.0   \n",
       "std     3502.790633    44.550308    536.285361     270.136914         0.0   \n",
       "min        7.000000     5.000000    320.000000     240.000000      1920.0   \n",
       "25%     3063.500000    29.000000    384.000000     288.000000      1920.0   \n",
       "50%     4545.000000    42.000000    640.000000     480.000000      1920.0   \n",
       "75%     9086.500000   106.000000   1280.000000     720.000000      1920.0   \n",
       "max    10918.000000   146.000000   1920.000000    1080.000000      1920.0   \n",
       "\n",
       "       clip_height  clip_duration     clip_size  clip_bitrate_total  \\\n",
       "count  5479.000000    5479.000000  5.479000e+03        5.479000e+03   \n",
       "mean    984.271582     132.718379  1.413721e+08        1.714677e+07   \n",
       "std     133.045663      73.418579  7.516743e+07        3.122918e+07   \n",
       "min     816.000000      19.000000  8.388608e+06        3.208250e+05   \n",
       "25%     816.000000     105.000000  9.352000e+07        9.017049e+06   \n",
       "50%    1080.000000     135.000000  1.457467e+08        9.609458e+06   \n",
       "75%    1080.000000     151.000000  1.791446e+08        9.934026e+06   \n",
       "max    1440.000000     396.000000  3.786084e+08        1.592548e+08   \n",
       "\n",
       "               crf  encode_bitrate_video  nr_of_images  nr_of_image_shifts  \\\n",
       "count  5479.000000          5.410000e+03   5479.000000         5479.000000   \n",
       "mean     32.146195          9.384927e+05      3.981201            7.981383   \n",
       "std       9.923897          1.940428e+06      2.591553            5.767905   \n",
       "min      18.000000          6.628000e+03      1.000000            1.000000   \n",
       "25%      23.000000          1.103292e+05      2.000000            4.000000   \n",
       "50%      30.000000          3.222625e+05      3.000000            7.000000   \n",
       "75%      40.000000          8.849682e+05      5.000000           11.000000   \n",
       "max      55.000000          3.196506e+07     14.000000           32.000000   \n",
       "\n",
       "              psnr         vmaf  \n",
       "count  2302.000000  4790.000000  \n",
       "mean     32.776278    50.013707  \n",
       "std       6.053482    28.610170  \n",
       "min      19.659002     0.065712  \n",
       "25%      27.981235    24.908225  \n",
       "50%      32.782581    51.108541  \n",
       "75%      36.977984    74.964342  \n",
       "max      49.104119    99.479527  "
      ]
     },
     "execution_count": 7,
     "metadata": {},
     "output_type": "execute_result"
    }
   ],
   "source": [
    "data.describe()"
   ]
  },
  {
   "cell_type": "code",
   "execution_count": 8,
   "metadata": {},
   "outputs": [
    {
     "data": {
      "text/plain": [
       "(5479, 17)"
      ]
     },
     "execution_count": 8,
     "metadata": {},
     "output_type": "execute_result"
    }
   ],
   "source": [
    "data.shape"
   ]
  },
  {
   "cell_type": "code",
   "execution_count": 9,
   "metadata": {},
   "outputs": [],
   "source": [
    "#data.to_csv('/Users/sezin/PycharmProjects/Per-Title_encoding/Data/clip_encode_merged_data_wo_null.csv')"
   ]
  },
  {
   "cell_type": "code",
   "execution_count": 10,
   "metadata": {},
   "outputs": [
    {
     "data": {
      "text/html": [
       "<div>\n",
       "<style scoped>\n",
       "    .dataframe tbody tr th:only-of-type {\n",
       "        vertical-align: middle;\n",
       "    }\n",
       "\n",
       "    .dataframe tbody tr th {\n",
       "        vertical-align: top;\n",
       "    }\n",
       "\n",
       "    .dataframe thead th {\n",
       "        text-align: right;\n",
       "    }\n",
       "</style>\n",
       "<table border=\"1\" class=\"dataframe\">\n",
       "  <thead>\n",
       "    <tr style=\"text-align: right;\">\n",
       "      <th></th>\n",
       "      <th>encode_width</th>\n",
       "      <th>encode_height</th>\n",
       "      <th>clip_width</th>\n",
       "      <th>clip_height</th>\n",
       "      <th>clip_duration</th>\n",
       "      <th>clip_size</th>\n",
       "      <th>clip_bitrate_total</th>\n",
       "      <th>crf</th>\n",
       "      <th>encode_bitrate_video</th>\n",
       "      <th>nr_of_images</th>\n",
       "      <th>nr_of_image_shifts</th>\n",
       "      <th>vmaf</th>\n",
       "    </tr>\n",
       "  </thead>\n",
       "  <tbody>\n",
       "    <tr>\n",
       "      <th>count</th>\n",
       "      <td>5479.000000</td>\n",
       "      <td>5479.000000</td>\n",
       "      <td>5479.0</td>\n",
       "      <td>5479.000000</td>\n",
       "      <td>5479.000000</td>\n",
       "      <td>5.479000e+03</td>\n",
       "      <td>5.479000e+03</td>\n",
       "      <td>5479.000000</td>\n",
       "      <td>5.410000e+03</td>\n",
       "      <td>5479.000000</td>\n",
       "      <td>5479.000000</td>\n",
       "      <td>4790.000000</td>\n",
       "    </tr>\n",
       "    <tr>\n",
       "      <th>mean</th>\n",
       "      <td>829.614163</td>\n",
       "      <td>526.817302</td>\n",
       "      <td>1920.0</td>\n",
       "      <td>984.271582</td>\n",
       "      <td>132.718379</td>\n",
       "      <td>1.413721e+08</td>\n",
       "      <td>1.714677e+07</td>\n",
       "      <td>32.146195</td>\n",
       "      <td>9.384927e+05</td>\n",
       "      <td>3.981201</td>\n",
       "      <td>7.981383</td>\n",
       "      <td>50.013707</td>\n",
       "    </tr>\n",
       "    <tr>\n",
       "      <th>std</th>\n",
       "      <td>536.285361</td>\n",
       "      <td>270.136914</td>\n",
       "      <td>0.0</td>\n",
       "      <td>133.045663</td>\n",
       "      <td>73.418579</td>\n",
       "      <td>7.516743e+07</td>\n",
       "      <td>3.122918e+07</td>\n",
       "      <td>9.923897</td>\n",
       "      <td>1.940428e+06</td>\n",
       "      <td>2.591553</td>\n",
       "      <td>5.767905</td>\n",
       "      <td>28.610170</td>\n",
       "    </tr>\n",
       "    <tr>\n",
       "      <th>min</th>\n",
       "      <td>320.000000</td>\n",
       "      <td>240.000000</td>\n",
       "      <td>1920.0</td>\n",
       "      <td>816.000000</td>\n",
       "      <td>19.000000</td>\n",
       "      <td>8.388608e+06</td>\n",
       "      <td>3.208250e+05</td>\n",
       "      <td>18.000000</td>\n",
       "      <td>6.628000e+03</td>\n",
       "      <td>1.000000</td>\n",
       "      <td>1.000000</td>\n",
       "      <td>0.065712</td>\n",
       "    </tr>\n",
       "    <tr>\n",
       "      <th>25%</th>\n",
       "      <td>384.000000</td>\n",
       "      <td>288.000000</td>\n",
       "      <td>1920.0</td>\n",
       "      <td>816.000000</td>\n",
       "      <td>105.000000</td>\n",
       "      <td>9.352000e+07</td>\n",
       "      <td>9.017049e+06</td>\n",
       "      <td>23.000000</td>\n",
       "      <td>1.103292e+05</td>\n",
       "      <td>2.000000</td>\n",
       "      <td>4.000000</td>\n",
       "      <td>24.908225</td>\n",
       "    </tr>\n",
       "    <tr>\n",
       "      <th>50%</th>\n",
       "      <td>640.000000</td>\n",
       "      <td>480.000000</td>\n",
       "      <td>1920.0</td>\n",
       "      <td>1080.000000</td>\n",
       "      <td>135.000000</td>\n",
       "      <td>1.457467e+08</td>\n",
       "      <td>9.609458e+06</td>\n",
       "      <td>30.000000</td>\n",
       "      <td>3.222625e+05</td>\n",
       "      <td>3.000000</td>\n",
       "      <td>7.000000</td>\n",
       "      <td>51.108541</td>\n",
       "    </tr>\n",
       "    <tr>\n",
       "      <th>75%</th>\n",
       "      <td>1280.000000</td>\n",
       "      <td>720.000000</td>\n",
       "      <td>1920.0</td>\n",
       "      <td>1080.000000</td>\n",
       "      <td>151.000000</td>\n",
       "      <td>1.791446e+08</td>\n",
       "      <td>9.934026e+06</td>\n",
       "      <td>40.000000</td>\n",
       "      <td>8.849682e+05</td>\n",
       "      <td>5.000000</td>\n",
       "      <td>11.000000</td>\n",
       "      <td>74.964342</td>\n",
       "    </tr>\n",
       "    <tr>\n",
       "      <th>max</th>\n",
       "      <td>1920.000000</td>\n",
       "      <td>1080.000000</td>\n",
       "      <td>1920.0</td>\n",
       "      <td>1440.000000</td>\n",
       "      <td>396.000000</td>\n",
       "      <td>3.786084e+08</td>\n",
       "      <td>1.592548e+08</td>\n",
       "      <td>55.000000</td>\n",
       "      <td>3.196506e+07</td>\n",
       "      <td>14.000000</td>\n",
       "      <td>32.000000</td>\n",
       "      <td>99.479527</td>\n",
       "    </tr>\n",
       "  </tbody>\n",
       "</table>\n",
       "</div>"
      ],
      "text/plain": [
       "       encode_width  encode_height  clip_width  clip_height  clip_duration  \\\n",
       "count   5479.000000    5479.000000      5479.0  5479.000000    5479.000000   \n",
       "mean     829.614163     526.817302      1920.0   984.271582     132.718379   \n",
       "std      536.285361     270.136914         0.0   133.045663      73.418579   \n",
       "min      320.000000     240.000000      1920.0   816.000000      19.000000   \n",
       "25%      384.000000     288.000000      1920.0   816.000000     105.000000   \n",
       "50%      640.000000     480.000000      1920.0  1080.000000     135.000000   \n",
       "75%     1280.000000     720.000000      1920.0  1080.000000     151.000000   \n",
       "max     1920.000000    1080.000000      1920.0  1440.000000     396.000000   \n",
       "\n",
       "          clip_size  clip_bitrate_total          crf  encode_bitrate_video  \\\n",
       "count  5.479000e+03        5.479000e+03  5479.000000          5.410000e+03   \n",
       "mean   1.413721e+08        1.714677e+07    32.146195          9.384927e+05   \n",
       "std    7.516743e+07        3.122918e+07     9.923897          1.940428e+06   \n",
       "min    8.388608e+06        3.208250e+05    18.000000          6.628000e+03   \n",
       "25%    9.352000e+07        9.017049e+06    23.000000          1.103292e+05   \n",
       "50%    1.457467e+08        9.609458e+06    30.000000          3.222625e+05   \n",
       "75%    1.791446e+08        9.934026e+06    40.000000          8.849682e+05   \n",
       "max    3.786084e+08        1.592548e+08    55.000000          3.196506e+07   \n",
       "\n",
       "       nr_of_images  nr_of_image_shifts         vmaf  \n",
       "count   5479.000000         5479.000000  4790.000000  \n",
       "mean       3.981201            7.981383    50.013707  \n",
       "std        2.591553            5.767905    28.610170  \n",
       "min        1.000000            1.000000     0.065712  \n",
       "25%        2.000000            4.000000    24.908225  \n",
       "50%        3.000000            7.000000    51.108541  \n",
       "75%        5.000000           11.000000    74.964342  \n",
       "max       14.000000           32.000000    99.479527  "
      ]
     },
     "execution_count": 10,
     "metadata": {},
     "output_type": "execute_result"
    }
   ],
   "source": [
    "#drop ids and psnr column\n",
    "new_data = data.drop(columns=['encode_id', 'clip_id', 'psnr','video_profile','clip_frame_rate'])\n",
    "new_data.describe()"
   ]
  },
  {
   "cell_type": "code",
   "execution_count": null,
   "metadata": {},
   "outputs": [],
   "source": []
  },
  {
   "cell_type": "code",
   "execution_count": 11,
   "metadata": {},
   "outputs": [],
   "source": [
    "new_data=new_data.dropna()"
   ]
  },
  {
   "cell_type": "code",
   "execution_count": 12,
   "metadata": {},
   "outputs": [
    {
     "name": "stdout",
     "output_type": "stream",
     "text": [
      "(3832, 12) (958, 12)\n"
     ]
    }
   ],
   "source": [
    "#train test split\n",
    "e_train, e_test = train_test_split(new_data, test_size=0.2)\n",
    "print(e_train.shape,e_test.shape)"
   ]
  },
  {
   "cell_type": "code",
   "execution_count": null,
   "metadata": {},
   "outputs": [],
   "source": []
  },
  {
   "cell_type": "code",
   "execution_count": 13,
   "metadata": {},
   "outputs": [
    {
     "data": {
      "image/png": "[encoded data removed]",
      "text/plain": [
       "<Figure size 432x288 with 1 Axes>"
      ]
     },
     "metadata": {
      "needs_background": "light"
     },
     "output_type": "display_data"
    },
    {
     "data": {
      "image/png": "[encoded data removed]",
      "text/plain": [
       "<Figure size 432x288 with 1 Axes>"
      ]
     },
     "metadata": {
      "needs_background": "light"
     },
     "output_type": "display_data"
    },
    {
     "data": {
      "image/png": "[encoded data removed]",
      "text/plain": [
       "<Figure size 432x288 with 1 Axes>"
      ]
     },
     "metadata": {
      "needs_background": "light"
     },
     "output_type": "display_data"
    },
    {
     "data": {
      "image/png": "[encoded data removed]",
      "text/plain": [
       "<Figure size 432x288 with 1 Axes>"
      ]
     },
     "metadata": {
      "needs_background": "light"
     },
     "output_type": "display_data"
    },
    {
     "data": {
      "image/png": "[encoded data removed]",
      "text/plain": [
       "<Figure size 432x288 with 1 Axes>"
      ]
     },
     "metadata": {
      "needs_background": "light"
     },
     "output_type": "display_data"
    },
    {
     "data": {
      "image/png": "[encoded data removed]",
      "text/plain": [
       "<Figure size 432x288 with 1 Axes>"
      ]
     },
     "metadata": {
      "needs_background": "light"
     },
     "output_type": "display_data"
    },
    {
     "data": {
      "image/png": "[encoded data removed]",
      "text/plain": [
       "<Figure size 432x288 with 1 Axes>"
      ]
     },
     "metadata": {
      "needs_background": "light"
     },
     "output_type": "display_data"
    },
    {
     "data": {
      "image/png": "[encoded data removed]",
      "text/plain": [
       "<Figure size 432x288 with 1 Axes>"
      ]
     },
     "metadata": {
      "needs_background": "light"
     },
     "output_type": "display_data"
    },
    {
     "data": {
      "image/png": "[encoded data removed]",
      "text/plain": [
       "<Figure size 432x288 with 1 Axes>"
      ]
     },
     "metadata": {
      "needs_background": "light"
     },
     "output_type": "display_data"
    },
    {
     "data": {
      "image/png": "[encoded data removed]",
      "text/plain": [
       "<Figure size 432x288 with 1 Axes>"
      ]
     },
     "metadata": {
      "needs_background": "light"
     },
     "output_type": "display_data"
    },
    {
     "data": {
      "image/png": "[encoded data removed]",
      "text/plain": [
       "<Figure size 432x288 with 1 Axes>"
      ]
     },
     "metadata": {
      "needs_background": "light"
     },
     "output_type": "display_data"
    },
    {
     "data": {
      "image/png": "[encoded data removed]",
      "text/plain": [
       "<Figure size 432x288 with 1 Axes>"
      ]
     },
     "metadata": {
      "needs_background": "light"
     },
     "output_type": "display_data"
    }
   ],
   "source": [
    "import matplotlib.pyplot as plt\n",
    "import seaborn as sns\n",
    "%matplotlib inline\n",
    "\n",
    "for column in list(e_train):\n",
    "    #plt.hist(e_train[column])\n",
    "    sns.distplot(e_train[column])\n",
    "    plt.show()"
   ]
  },
  {
   "cell_type": "code",
   "execution_count": 14,
   "metadata": {},
   "outputs": [
    {
     "name": "stdout",
     "output_type": "stream",
     "text": [
      "       encode_width  encode_height  clip_width  clip_height  clip_duration  \\\n",
      "count    958.000000     958.000000       958.0   958.000000     958.000000   \n",
      "mean     850.555324     537.770355      1920.0   969.544885     118.064718   \n",
      "std      543.712399     273.341958         0.0   136.015802      66.072140   \n",
      "min      320.000000     240.000000      1920.0   816.000000      19.000000   \n",
      "25%      384.000000     288.000000      1920.0   816.000000      81.000000   \n",
      "50%      640.000000     480.000000      1920.0  1056.000000     131.000000   \n",
      "75%     1280.000000     720.000000      1920.0  1080.000000     149.000000   \n",
      "max     1920.000000    1080.000000      1920.0  1440.000000     396.000000   \n",
      "\n",
      "          clip_size  clip_bitrate_total         crf  encode_bitrate_video  \\\n",
      "count  9.580000e+02        9.580000e+02  958.000000          9.580000e+02   \n",
      "mean   1.480925e+08        1.996114e+07   32.458246          9.662222e+05   \n",
      "std    7.556696e+07        3.431767e+07   10.264721          2.093941e+06   \n",
      "min    8.388608e+06        3.208250e+05   18.000000          7.468000e+03   \n",
      "25%    9.721257e+07        9.422592e+06   23.000000          1.156442e+05   \n",
      "50%    1.576418e+08        9.621329e+06   31.000000          3.196075e+05   \n",
      "75%    1.791551e+08        1.000248e+07   40.000000          8.319315e+05   \n",
      "max    3.786084e+08        1.592548e+08   55.000000          3.196506e+07   \n",
      "\n",
      "       nr_of_images  nr_of_image_shifts        vmaf  \n",
      "count    958.000000          958.000000  958.000000  \n",
      "mean       4.110647            8.692067   50.205924  \n",
      "std        2.564176            6.117293   28.106055  \n",
      "min        1.000000            1.000000    0.094838  \n",
      "25%        2.000000            4.000000   26.332776  \n",
      "50%        4.000000            8.000000   50.452548  \n",
      "75%        5.000000           11.000000   74.536051  \n",
      "max       14.000000           32.000000   99.479527  \n"
     ]
    }
   ],
   "source": [
    "print(e_test.describe())"
   ]
  },
  {
   "cell_type": "code",
   "execution_count": 15,
   "metadata": {},
   "outputs": [
    {
     "name": "stdout",
     "output_type": "stream",
     "text": [
      "       encode_width  encode_height  clip_width  clip_height  clip_duration  \\\n",
      "count   3832.000000    3832.000000      3832.0  3832.000000    3832.000000   \n",
      "mean     822.855950     523.509395      1920.0   970.741127     120.440240   \n",
      "std      532.460057     268.223872         0.0   137.128374      65.264073   \n",
      "min      320.000000     240.000000      1920.0   816.000000      19.000000   \n",
      "25%      384.000000     288.000000      1920.0   816.000000      97.000000   \n",
      "50%      640.000000     480.000000      1920.0  1056.000000     133.000000   \n",
      "75%     1280.000000     720.000000      1920.0  1080.000000     149.000000   \n",
      "max     1920.000000    1080.000000      1920.0  1440.000000     396.000000   \n",
      "\n",
      "          clip_size  clip_bitrate_total          crf  encode_bitrate_video  \\\n",
      "count  3.832000e+03        3.832000e+03  3832.000000          3.832000e+03   \n",
      "mean   1.490701e+08        1.891837e+07    32.206681          9.174280e+05   \n",
      "std    7.378692e+07        3.255502e+07    10.021255          1.950836e+06   \n",
      "min    8.388608e+06        3.208250e+05    18.000000          6.628000e+03   \n",
      "25%    9.721257e+07        9.422592e+06    23.000000          1.036390e+05   \n",
      "50%    1.612013e+08        9.623485e+06    31.000000          3.105885e+05   \n",
      "75%    1.791551e+08        9.988576e+06    40.000000          8.622730e+05   \n",
      "max    3.786084e+08        1.592548e+08    55.000000          3.186222e+07   \n",
      "\n",
      "       nr_of_images  nr_of_image_shifts         vmaf  \n",
      "count   3832.000000         3832.000000  3832.000000  \n",
      "mean       4.256524            8.602296    49.965653  \n",
      "std        2.685598            5.802993    28.738236  \n",
      "min        1.000000            1.000000     0.065712  \n",
      "25%        2.000000            4.000000    24.505714  \n",
      "50%        4.000000            8.000000    51.191220  \n",
      "75%        6.000000           11.000000    75.029300  \n",
      "max       14.000000           32.000000    99.365650  \n"
     ]
    }
   ],
   "source": [
    "print(e_train.describe())"
   ]
  },
  {
   "cell_type": "code",
   "execution_count": 16,
   "metadata": {},
   "outputs": [
    {
     "data": {
      "text/plain": [
       "encode_width            0\n",
       "encode_height           0\n",
       "clip_width              0\n",
       "clip_height             0\n",
       "clip_duration           0\n",
       "clip_size               0\n",
       "clip_bitrate_total      0\n",
       "crf                     0\n",
       "encode_bitrate_video    0\n",
       "nr_of_images            0\n",
       "nr_of_image_shifts      0\n",
       "vmaf                    0\n",
       "dtype: int64"
      ]
     },
     "execution_count": 16,
     "metadata": {},
     "output_type": "execute_result"
    }
   ],
   "source": [
    "e_train.isnull().sum()"
   ]
  },
  {
   "cell_type": "markdown",
   "metadata": {},
   "source": [
    "### Test Model"
   ]
  },
  {
   "cell_type": "code",
   "execution_count": 17,
   "metadata": {},
   "outputs": [],
   "source": [
    "data_y_train = e_train['vmaf']\n",
    "data_X_train = e_train.drop(columns=['vmaf'])\n",
    "\n",
    "\n",
    "data_y_test = e_test['vmaf']\n",
    "data_X_test = e_test.drop(columns=['vmaf'])"
   ]
  },
  {
   "cell_type": "code",
   "execution_count": 18,
   "metadata": {},
   "outputs": [
    {
     "name": "stdout",
     "output_type": "stream",
     "text": [
      "[-3.87815537e-02  1.37013211e-01  3.40819639e-10 -2.32962920e-02\n",
      "  3.35418125e-02 -1.60373682e-08 -2.31643829e-08 -2.14818256e+00\n",
      " -4.46525340e-07  3.90783150e-02  2.70255309e-01]\n"
     ]
    }
   ],
   "source": [
    "from sklearn.linear_model import LinearRegression\n",
    "\n",
    "linear_regression_model = LinearRegression()\n",
    "linear_regression_model.fit(data_X_train, data_y_train)\n",
    "print(linear_regression_model.coef_)"
   ]
  },
  {
   "cell_type": "code",
   "execution_count": 19,
   "metadata": {},
   "outputs": [],
   "source": [
    "y_pred = linear_regression_model.predict(data_X_test)"
   ]
  },
  {
   "cell_type": "code",
   "execution_count": 20,
   "metadata": {},
   "outputs": [
    {
     "data": {
      "text/plain": [
       "7.775162605648506"
      ]
     },
     "execution_count": 20,
     "metadata": {},
     "output_type": "execute_result"
    }
   ],
   "source": [
    "from sklearn.metrics import mean_absolute_error\n",
    "mean_absolute_error(data_y_test, y_pred)"
   ]
  },
  {
   "cell_type": "code",
   "execution_count": 21,
   "metadata": {},
   "outputs": [
    {
     "data": {
      "image/png": "[encoded data removed]",
      "text/plain": [
       "<Figure size 432x288 with 1 Axes>"
      ]
     },
     "metadata": {
      "needs_background": "light"
     },
     "output_type": "display_data"
    }
   ],
   "source": [
    "import seaborn as sns\n",
    "import matplotlib.pyplot as plt\n",
    "\n",
    "sns.distplot(abs(y_pred))\n",
    "plt.show()"
   ]
  },
  {
   "cell_type": "code",
   "execution_count": null,
   "metadata": {},
   "outputs": [],
   "source": []
  }
 ],
 "metadata": {
  "kernelspec": {
   "display_name": "Per-Title_encoding",
   "language": "python",
   "name": "per-title_encoding"
  },
  "language_info": {
   "codemirror_mode": {
    "name": "ipython",
    "version": 3
   },
   "file_extension": ".py",
   "mimetype": "text/x-python",
   "name": "python",
   "nbconvert_exporter": "python",
   "pygments_lexer": "ipython3",
   "version": "3.7.2"
  }
 },
 "nbformat": 4,
 "nbformat_minor": 2
}
